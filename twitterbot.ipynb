{
 "cells": [
  {
   "cell_type": "code",
   "execution_count": 60,
   "metadata": {
    "collapsed": true
   },
   "outputs": [],
   "source": [
    "import os\n",
    "import time\n",
    "from random import random\n",
    "import tweepy as tp\n",
    "import jsonpickle\n",
    "\n",
    "import sys\n",
    "import string\n",
    "import re\n",
    "import us\n",
    "import simplejson\n",
    "from twython import Twython\n",
    "import matplotlib\n",
    "import matplotlib.pyplot as plt\n",
    "\n",
    "from datetime import datetime\n",
    "from dateutil import parser as dateparser\n",
    "import time"
   ]
  },
  {
   "cell_type": "code",
   "execution_count": 61,
   "metadata": {
    "collapsed": true
   },
   "outputs": [],
   "source": [
    "#CampaignFinBot\n",
    "consumer_key = '0mErj1LvShLXydLXQoujly1sl'\n",
    "consumer_secret = 'OHxc2TwHkaNfq6kDByhnNXqZG4Z9VZ3iS7H3IlaMe9uIjk0W3s'\n",
    "access_token = '974349318156152832-7OaP8AOzVAzwvc41ZfZZuIS3A8ttPss'\n",
    "access_secret = 'jhEEFtRWT19snQkcqhiS1Y4v7fDEUAOG4JqQliCRMgHuz'\n",
    "\n",
    "#Jamie's\n",
    "# consumer_key = 'D44YmpJEtFioaZkYmXWJ8hwc8'\n",
    "# consumer_secret = 'LekWYdSHt2XJ5yr7HOEK7i560kqhWDVXzuxesdJr9rLgwtr5SF'\n",
    "# access_token = '51341945-pgnokFwr0dQrlVXfiAgdxceW3rJiZxr0AO02ildib'\n",
    "# access_secret = 'RLAVqW3sF7nTaBWhAetxC5VagMvxNsbsZiCt1nHuq01it'\n",
    "\n"
   ]
  },
  {
   "cell_type": "code",
   "execution_count": 62,
   "metadata": {
    "collapsed": true
   },
   "outputs": [],
   "source": [
    "# login to twitter account api\n",
    "auth = tp.OAuthHandler(consumer_key, consumer_secret)\n",
    "auth.set_access_token(access_token, access_secret)\n",
    "api = tp.API(auth)\n"
   ]
  },
  {
   "cell_type": "code",
   "execution_count": 63,
   "metadata": {
    "collapsed": true
   },
   "outputs": [],
   "source": [
    "searchQuery = 'place:96683cc9126741d1 #marchforourlives'"
   ]
  },
  {
   "cell_type": "code",
   "execution_count": 64,
   "metadata": {
    "collapsed": true
   },
   "outputs": [],
   "source": [
    "#Maximum number of tweets we want to collect \n",
    "maxTweets = 1\n",
    "#The twitter Search API allows up to 100 tweets per query\n",
    "tweetsPerQry = 1"
   ]
  },
  {
   "cell_type": "code",
   "execution_count": 65,
   "metadata": {},
   "outputs": [
    {
     "name": "stdout",
     "output_type": "stream",
     "text": [
      "Downloaded 1 tweets\n"
     ]
    }
   ],
   "source": [
    "tweetCount = 0\n",
    "\n",
    "#Open a text file to save the tweets to\n",
    "with open('PoGo_USA_Tutorial.json', 'w') as f:\n",
    "\n",
    "    #Tell the Cursor method that we want to use the Search API (api.search)\n",
    "    #Also tell Cursor our query, and the maximum number of tweets to return\n",
    "    for tweet in tp.Cursor(api.search,q=searchQuery).items(maxTweets) :         \n",
    "\n",
    "        #Verify the tweet has place info before writing (It should, if it got past our place filter)\n",
    "        if tweet.place is not None:\n",
    "            \n",
    "            #Write the JSON format to the text file, and add one to the number of tweets we've collected\n",
    "            newTweet = jsonpickle.encode(tweet._json, unpicklable=False)\n",
    "            tweetCount += 1\n",
    "\n",
    "    #Display how many tweets we have collected\n",
    "    print(\"Downloaded {0} tweets\".format(tweetCount))\n",
    "#     print(tweet)"
   ]
  },
  {
   "cell_type": "code",
   "execution_count": 66,
   "metadata": {},
   "outputs": [
    {
     "name": "stdout",
     "output_type": "stream",
     "text": [
      "Houston, TX\n"
     ]
    }
   ],
   "source": [
    "print(tweet.place.full_name)"
   ]
  },
  {
   "cell_type": "code",
   "execution_count": 67,
   "metadata": {},
   "outputs": [
    {
     "data": {
      "text/plain": [
       "'Houston TX'"
      ]
     },
     "execution_count": 67,
     "metadata": {},
     "output_type": "execute_result"
    }
   ],
   "source": [
    "location = tweet.place.full_name\n",
    "location = location.split(',')\n",
    "location = ''.join(location)\n",
    "location = location.strip()\n",
    "location\n"
   ]
  },
  {
   "cell_type": "code",
   "execution_count": 68,
   "metadata": {
    "collapsed": true
   },
   "outputs": [],
   "source": [
    "us_state_abbrev = {\n",
    "    'Alabama': 'AL',\n",
    "    'Alaska': 'AK',\n",
    "    'Arizona': 'AZ',\n",
    "    'Arkansas': 'AR',\n",
    "    'California': 'CA',\n",
    "    'Colorado': 'CO',\n",
    "    'Connecticut': 'CT',\n",
    "    'Delaware': 'DE',\n",
    "    'Florida': 'FL',\n",
    "    'Georgia': 'GA',\n",
    "    'Hawaii': 'HI',\n",
    "    'Idaho': 'ID',\n",
    "    'Illinois': 'IL',\n",
    "    'Indiana': 'IN',\n",
    "    'Iowa': 'IA',\n",
    "    'Kansas': 'KS',\n",
    "    'Kentucky': 'KY',\n",
    "    'Louisiana': 'LA',\n",
    "    'Maine': 'ME',\n",
    "    'Maryland': 'MD',\n",
    "    'Massachusetts': 'MA',\n",
    "    'Michigan': 'MI',\n",
    "    'Minnesota': 'MN',\n",
    "    'Mississippi': 'MS',\n",
    "    'Missouri': 'MO',\n",
    "    'Montana': 'MT',\n",
    "    'Nebraska': 'NE',\n",
    "    'Nevada': 'NV',\n",
    "    'New Hampshire': 'NH',\n",
    "    'New Jersey': 'NJ',\n",
    "    'New Mexico': 'NM',\n",
    "    'New York': 'NY',\n",
    "    'North Carolina': 'NC',\n",
    "    'North Dakota': 'ND',\n",
    "    'Ohio': 'OH',\n",
    "    'Oklahoma': 'OK',\n",
    "    'Oregon': 'OR',\n",
    "    'Pennsylvania': 'PA',\n",
    "    'Rhode Island': 'RI',\n",
    "    'South Carolina': 'SC',\n",
    "    'South Dakota': 'SD',\n",
    "    'Tennessee': 'TN',\n",
    "    'Texas': 'TX',\n",
    "    'Utah': 'UT',\n",
    "    'Vermont': 'VT',\n",
    "    'Virginia': 'VA',\n",
    "    'Washington': 'WA',\n",
    "    'West Virginia': 'WV',\n",
    "    'Wisconsin': 'WI',\n",
    "    'Wyoming': 'WY',\n",
    "}\n"
   ]
  },
  {
   "cell_type": "code",
   "execution_count": 69,
   "metadata": {},
   "outputs": [
    {
     "name": "stdout",
     "output_type": "stream",
     "text": [
      "location: TX\n"
     ]
    }
   ],
   "source": [
    "states = [\"AL\", \"AK\", \"AZ\", \"AR\", \"CA\", \"CO\", \"CT\", \"DC\", \"DE\", \"FL\", \"GA\", \n",
    "          \"HI\", \"ID\", \"IL\", \"IN\", \"IA\", \"KS\", \"KY\", \"LA\", \"ME\", \"MD\", \n",
    "          \"MA\", \"MI\", \"MN\", \"MS\", \"MO\", \"MT\", \"NE\", \"NV\", \"NH\", \"NJ\", \n",
    "          \"NM\", \"NY\", \"NC\", \"ND\", \"OH\", \"OK\", \"OR\", \"PA\", \"RI\", \"SC\", \n",
    "          \"SD\", \"TN\", \"TX\", \"UT\", \"VT\", \"VA\", \"WA\", \"WV\", \"WI\", \"WY\", \n",
    "          \"Alabama\",\"Alaska\",\"Arizona\",\"Arkansas\",\"California\",\"Colorado\",\n",
    "          \"Connecticut\",\"Delaware\",\"Florida\",\"Georgia\",\"Hawaii\",\"Idaho\",\"Illinois\",\n",
    "          \"Indiana\",\"Iowa\",\"Kansas\",\"Kentucky\",\"Louisiana\",\"Maine\",\"Maryland\",\n",
    "          \"Massachusetts\",\"Michigan\",\"Minnesota\",\"Mississippi\",\"Missouri\",\"Montana\",\n",
    "          \"Nebraska\",\"Nevada\",\"New Hampshire\",\"New Jersey\",\"New Mexico\",\"New York\",\n",
    "          \"North Carolina\",\"North Dakota\",\"Ohio\",\"Oklahoma\",\"Oregon\",\"Pennsylvania\",\n",
    "          \"Rhode Island\",\"South Carolina\",\"South Dakota\",\"Tennessee\",\"Texas\",\"Utah\",\n",
    "          \"Vermont\",\"Virginia\",\"Washington\",\"West Virginia\",\"Wisconsin\",\"Wyoming\"]\n",
    "\n",
    "\n",
    "for n in range(0,len(states)) :\n",
    "        if states[n] in location:\n",
    "            location = states[n]\n",
    "            print('location: ' + location)\n",
    "            \n",
    "# us_state_abbrev[location]"
   ]
  },
  {
   "cell_type": "code",
   "execution_count": 70,
   "metadata": {},
   "outputs": [
    {
     "name": "stdout",
     "output_type": "stream",
     "text": [
      "TX\n"
     ]
    }
   ],
   "source": [
    "print(location)"
   ]
  },
  {
   "cell_type": "code",
   "execution_count": 71,
   "metadata": {},
   "outputs": [
    {
     "name": "stdout",
     "output_type": "stream",
     "text": [
      "houstonstyle\n"
     ]
    }
   ],
   "source": [
    "tweetId = tweet.user.screen_name\n",
    "print(tweetId)"
   ]
  },
  {
   "cell_type": "code",
   "execution_count": 72,
   "metadata": {},
   "outputs": [
    {
     "name": "stdout",
     "output_type": "stream",
     "text": [
      "Houston Style\n"
     ]
    }
   ],
   "source": [
    "print(tweet.user.name)"
   ]
  },
  {
   "cell_type": "code",
   "execution_count": 73,
   "metadata": {
    "collapsed": true
   },
   "outputs": [],
   "source": [
    "#Insert status generated from our open source library and the location of the tweet.\n",
    "status = 'Hi ' + tweet.user.name +'. I noticed you were interested in the 2nd ammendment. Heres some donation history from last year from the legislators in your state'"
   ]
  },
  {
   "cell_type": "markdown",
   "metadata": {},
   "source": [
    "# Open Secrets API Call"
   ]
  },
  {
   "cell_type": "code",
   "execution_count": 74,
   "metadata": {},
   "outputs": [
    {
     "name": "stdout",
     "output_type": "stream",
     "text": [
      "http://www.opensecrets.org/api/?method=getLegislators&output=json&apikey=4e8bab71c22740d56e73b43835f42def&id=TX\n",
      "38\n"
     ]
    }
   ],
   "source": [
    "from crpapi import CRP, CRPApiError\n",
    "CRP.apikey = '4e8bab71c22740d56e73b43835f42def'\n",
    "\n",
    "STATE = location\n",
    "legislator = CRP.getLegislators.get(id=STATE)\n",
    "\n",
    "#number of legislators in that specific state\n",
    "print(len(legislator))"
   ]
  },
  {
   "cell_type": "code",
   "execution_count": 75,
   "metadata": {
    "collapsed": true
   },
   "outputs": [],
   "source": [
    "import numpy as np\n",
    "\n",
    "def obtain_legislator(lastname=None):\n",
    "    state_legislators = []\n",
    "    \n",
    "    for n in range(len(legislator)):\n",
    "        name = legislator[n]['@attributes']['firstlast']\n",
    "        cid = legislator[n]['@attributes']['cid']\n",
    "        party = legislator[n]['@attributes']['party']\n",
    "        state_legislators.append([name, cid, party])\n",
    "        #print('Polititian: ' + name + ' , ' + 'CID: ' + cid + ' , ' + 'Party: ' + party)\n",
    "    \n",
    "    return state_legislators\n",
    "\n",
    "state_legislators = obtain_legislator()\n"
   ]
  },
  {
   "cell_type": "code",
   "execution_count": 76,
   "metadata": {
    "scrolled": true
   },
   "outputs": [
    {
     "data": {
      "text/plain": [
       "array([['Louis B Gohmert Jr.', 'N00026148', 'R'],\n",
       "       ['Ted Poe', 'N00026457', 'R'],\n",
       "       ['Sam Johnson', 'N00008028', 'R'],\n",
       "       ['John Lee Ratcliffe', 'N00035972', 'R'],\n",
       "       ['Jeb Hensarling', 'N00024922', 'R'],\n",
       "       ['Joe Barton', 'N00005656', 'R'],\n",
       "       ['John Culberson', 'N00009738', 'R'],\n",
       "       ['Kevin Brady', 'N00005883', 'R'],\n",
       "       ['Al Green', 'N00026686', 'D'],\n",
       "       ['Michael McCaul', 'N00026460', 'R'],\n",
       "       ['Mike Conaway', 'N00026041', 'R'],\n",
       "       ['Kay Granger', 'N00008799', 'R'],\n",
       "       ['Mac Thornberry', 'N00006052', 'R'],\n",
       "       ['Randy Weber', 'N00033539', 'R'],\n",
       "       ['Vicente Gonzalez', 'N00038809', 'D'],\n",
       "       [\"Beto O'Rourke\", 'N00033540', 'D'],\n",
       "       ['Bill Flores', 'N00031545', 'R'],\n",
       "       ['Sheila Jackson Lee', 'N00005818', 'D'],\n",
       "       ['Jodey Arrington', 'N00038285', 'R'],\n",
       "       ['Joaquin Castro', 'N00033316', 'D'],\n",
       "       ['Lamar Smith', 'N00001811', 'R'],\n",
       "       ['Pete Olson', 'N00029285', 'R'],\n",
       "       ['Will Hurd', 'N00031417', 'R'],\n",
       "       ['Kenny Marchant', 'N00026710', 'R'],\n",
       "       ['Roger Williams', 'N00030602', 'R'],\n",
       "       ['Michael Burgess', 'N00025219', 'R'],\n",
       "       ['Blake Farenthold', 'N00031672', 'R'],\n",
       "       ['Henry Cuellar', 'N00024978', 'D'],\n",
       "       ['Gene Green', 'N00005870', 'D'],\n",
       "       ['Eddie Bernice Johnson', 'N00008122', 'D'],\n",
       "       ['John Carter', 'N00025095', 'R'],\n",
       "       ['Pete Sessions', 'N00005681', 'R'],\n",
       "       ['Marc Veasey', 'N00033839', 'D'],\n",
       "       ['Filemon Vela', 'N00034349', 'D'],\n",
       "       ['Lloyd Doggett', 'N00006023', 'D'],\n",
       "       ['Brian Babin', 'N00005736', 'R'],\n",
       "       ['John Cornyn', 'N00024852', 'R'],\n",
       "       ['Ted Cruz', 'N00033085', 'R']], dtype='<U21')"
      ]
     },
     "execution_count": 76,
     "metadata": {},
     "output_type": "execute_result"
    }
   ],
   "source": [
    "state_legislators = np.array(state_legislators)\n",
    "state_legislators[:]"
   ]
  },
  {
   "cell_type": "code",
   "execution_count": 77,
   "metadata": {},
   "outputs": [
    {
     "name": "stdout",
     "output_type": "stream",
     "text": [
      "http://www.opensecrets.org/api/?method=CandIndByInd&output=json&apikey=4e8bab71c22740d56e73b43835f42def&cid=N00026148&cycle=2016&ind=Q13\n",
      "Legislator Louis B Gohmert Jr. has received 7444 from donors affiliated with this industry: Q13\n",
      "http://www.opensecrets.org/api/?method=CandIndByInd&output=json&apikey=4e8bab71c22740d56e73b43835f42def&cid=N00026457&cycle=2016&ind=Q13\n",
      "Legislator Ted Poe has received 6250 from donors affiliated with this industry: Q13\n",
      "http://www.opensecrets.org/api/?method=CandIndByInd&output=json&apikey=4e8bab71c22740d56e73b43835f42def&cid=N00008028&cycle=2016&ind=Q13\n",
      "Legislator Sam Johnson has received 2750 from donors affiliated with this industry: Q13\n",
      "http://www.opensecrets.org/api/?method=CandIndByInd&output=json&apikey=4e8bab71c22740d56e73b43835f42def&cid=N00035972&cycle=2016&ind=Q13\n",
      "Legislator John Lee Ratcliffe has received 4500 from donors affiliated with this industry: Q13\n",
      "http://www.opensecrets.org/api/?method=CandIndByInd&output=json&apikey=4e8bab71c22740d56e73b43835f42def&cid=N00024922&cycle=2016&ind=Q13\n",
      "Legislator Jeb Hensarling has received 4100 from donors affiliated with this industry: Q13\n",
      "http://www.opensecrets.org/api/?method=CandIndByInd&output=json&apikey=4e8bab71c22740d56e73b43835f42def&cid=N00005656&cycle=2016&ind=Q13\n",
      "Legislator Joe Barton has received 11200 from donors affiliated with this industry: Q13\n",
      "http://www.opensecrets.org/api/?method=CandIndByInd&output=json&apikey=4e8bab71c22740d56e73b43835f42def&cid=N00009738&cycle=2016&ind=Q13\n",
      "Legislator John Culberson has received 14200 from donors affiliated with this industry: Q13\n",
      "http://www.opensecrets.org/api/?method=CandIndByInd&output=json&apikey=4e8bab71c22740d56e73b43835f42def&cid=N00005883&cycle=2016&ind=Q13\n",
      "Legislator Kevin Brady has received 9750 from donors affiliated with this industry: Q13\n",
      "http://www.opensecrets.org/api/?method=CandIndByInd&output=json&apikey=4e8bab71c22740d56e73b43835f42def&cid=N00026686&cycle=2016&ind=Q13\n",
      "Legislator Al Green is not affiliated with this industry: Q13\n",
      "http://www.opensecrets.org/api/?method=CandIndByInd&output=json&apikey=4e8bab71c22740d56e73b43835f42def&cid=N00026460&cycle=2016&ind=Q13\n",
      "Legislator Michael McCaul has received 10150 from donors affiliated with this industry: Q13\n",
      "http://www.opensecrets.org/api/?method=CandIndByInd&output=json&apikey=4e8bab71c22740d56e73b43835f42def&cid=N00026041&cycle=2016&ind=Q13\n",
      "Legislator Mike Conaway has received 16550 from donors affiliated with this industry: Q13\n",
      "http://www.opensecrets.org/api/?method=CandIndByInd&output=json&apikey=4e8bab71c22740d56e73b43835f42def&cid=N00008799&cycle=2016&ind=Q13\n",
      "Legislator Kay Granger has received 11000 from donors affiliated with this industry: Q13\n",
      "http://www.opensecrets.org/api/?method=CandIndByInd&output=json&apikey=4e8bab71c22740d56e73b43835f42def&cid=N00006052&cycle=2016&ind=Q13\n",
      "Legislator Mac Thornberry has received 5800 from donors affiliated with this industry: Q13\n",
      "http://www.opensecrets.org/api/?method=CandIndByInd&output=json&apikey=4e8bab71c22740d56e73b43835f42def&cid=N00033539&cycle=2016&ind=Q13\n",
      "Legislator Randy Weber has received 8400 from donors affiliated with this industry: Q13\n",
      "http://www.opensecrets.org/api/?method=CandIndByInd&output=json&apikey=4e8bab71c22740d56e73b43835f42def&cid=N00038809&cycle=2016&ind=Q13\n",
      "Legislator Vicente Gonzalez is not affiliated with this industry: Q13\n",
      "http://www.opensecrets.org/api/?method=CandIndByInd&output=json&apikey=4e8bab71c22740d56e73b43835f42def&cid=N00033540&cycle=2016&ind=Q13\n",
      "Legislator Beto O'Rourke is not affiliated with this industry: Q13\n",
      "http://www.opensecrets.org/api/?method=CandIndByInd&output=json&apikey=4e8bab71c22740d56e73b43835f42def&cid=N00031545&cycle=2016&ind=Q13\n",
      "Legislator Bill Flores has received 10700 from donors affiliated with this industry: Q13\n",
      "http://www.opensecrets.org/api/?method=CandIndByInd&output=json&apikey=4e8bab71c22740d56e73b43835f42def&cid=N00005818&cycle=2016&ind=Q13\n",
      "Legislator Sheila Jackson Lee is not affiliated with this industry: Q13\n",
      "http://www.opensecrets.org/api/?method=CandIndByInd&output=json&apikey=4e8bab71c22740d56e73b43835f42def&cid=N00038285&cycle=2016&ind=Q13\n",
      "Legislator Jodey Arrington has received 4000 from donors affiliated with this industry: Q13\n",
      "http://www.opensecrets.org/api/?method=CandIndByInd&output=json&apikey=4e8bab71c22740d56e73b43835f42def&cid=N00033316&cycle=2016&ind=Q13\n",
      "Legislator Joaquin Castro is not affiliated with this industry: Q13\n",
      "http://www.opensecrets.org/api/?method=CandIndByInd&output=json&apikey=4e8bab71c22740d56e73b43835f42def&cid=N00001811&cycle=2016&ind=Q13\n",
      "Legislator Lamar Smith has received 9650 from donors affiliated with this industry: Q13\n",
      "http://www.opensecrets.org/api/?method=CandIndByInd&output=json&apikey=4e8bab71c22740d56e73b43835f42def&cid=N00029285&cycle=2016&ind=Q13\n",
      "Legislator Pete Olson has received 14250 from donors affiliated with this industry: Q13\n",
      "http://www.opensecrets.org/api/?method=CandIndByInd&output=json&apikey=4e8bab71c22740d56e73b43835f42def&cid=N00031417&cycle=2016&ind=Q13\n",
      "Legislator Will Hurd has received 35850 from donors affiliated with this industry: Q13\n",
      "http://www.opensecrets.org/api/?method=CandIndByInd&output=json&apikey=4e8bab71c22740d56e73b43835f42def&cid=N00026710&cycle=2016&ind=Q13\n",
      "Legislator Kenny Marchant has received 3000 from donors affiliated with this industry: Q13\n",
      "http://www.opensecrets.org/api/?method=CandIndByInd&output=json&apikey=4e8bab71c22740d56e73b43835f42def&cid=N00030602&cycle=2016&ind=Q13\n",
      "Legislator Roger Williams has received 4750 from donors affiliated with this industry: Q13\n",
      "http://www.opensecrets.org/api/?method=CandIndByInd&output=json&apikey=4e8bab71c22740d56e73b43835f42def&cid=N00025219&cycle=2016&ind=Q13\n",
      "Legislator Michael Burgess has received 1000 from donors affiliated with this industry: Q13\n",
      "http://www.opensecrets.org/api/?method=CandIndByInd&output=json&apikey=4e8bab71c22740d56e73b43835f42def&cid=N00031672&cycle=2016&ind=Q13\n",
      "Legislator Blake Farenthold has received 11800 from donors affiliated with this industry: Q13\n",
      "http://www.opensecrets.org/api/?method=CandIndByInd&output=json&apikey=4e8bab71c22740d56e73b43835f42def&cid=N00024978&cycle=2016&ind=Q13\n",
      "Legislator Henry Cuellar has received 12099 from donors affiliated with this industry: Q13\n",
      "http://www.opensecrets.org/api/?method=CandIndByInd&output=json&apikey=4e8bab71c22740d56e73b43835f42def&cid=N00005870&cycle=2016&ind=Q13\n",
      "Legislator Gene Green has received 5500 from donors affiliated with this industry: Q13\n",
      "http://www.opensecrets.org/api/?method=CandIndByInd&output=json&apikey=4e8bab71c22740d56e73b43835f42def&cid=N00008122&cycle=2016&ind=Q13\n",
      "Legislator Eddie Bernice Johnson is not affiliated with this industry: Q13\n",
      "http://www.opensecrets.org/api/?method=CandIndByInd&output=json&apikey=4e8bab71c22740d56e73b43835f42def&cid=N00025095&cycle=2016&ind=Q13\n",
      "Legislator John Carter has received 9500 from donors affiliated with this industry: Q13\n",
      "http://www.opensecrets.org/api/?method=CandIndByInd&output=json&apikey=4e8bab71c22740d56e73b43835f42def&cid=N00005681&cycle=2016&ind=Q13\n",
      "Legislator Pete Sessions has received 5500 from donors affiliated with this industry: Q13\n",
      "http://www.opensecrets.org/api/?method=CandIndByInd&output=json&apikey=4e8bab71c22740d56e73b43835f42def&cid=N00033839&cycle=2016&ind=Q13\n",
      "Legislator Marc Veasey is not affiliated with this industry: Q13\n",
      "http://www.opensecrets.org/api/?method=CandIndByInd&output=json&apikey=4e8bab71c22740d56e73b43835f42def&cid=N00034349&cycle=2016&ind=Q13\n",
      "Legislator Filemon Vela is not affiliated with this industry: Q13\n",
      "http://www.opensecrets.org/api/?method=CandIndByInd&output=json&apikey=4e8bab71c22740d56e73b43835f42def&cid=N00006023&cycle=2016&ind=Q13\n",
      "Legislator Lloyd Doggett is not affiliated with this industry: Q13\n",
      "http://www.opensecrets.org/api/?method=CandIndByInd&output=json&apikey=4e8bab71c22740d56e73b43835f42def&cid=N00005736&cycle=2016&ind=Q13\n",
      "Legislator Brian Babin has received 8200 from donors affiliated with this industry: Q13\n",
      "http://www.opensecrets.org/api/?method=CandIndByInd&output=json&apikey=4e8bab71c22740d56e73b43835f42def&cid=N00024852&cycle=2016&ind=Q13\n",
      "Legislator John Cornyn has received 16200 from donors affiliated with this industry: Q13\n",
      "http://www.opensecrets.org/api/?method=CandIndByInd&output=json&apikey=4e8bab71c22740d56e73b43835f42def&cid=N00033085&cycle=2016&ind=Q13\n"
     ]
    },
    {
     "name": "stdout",
     "output_type": "stream",
     "text": [
      "Legislator Ted Cruz has received 362103 from donors affiliated with this industry: Q13\n"
     ]
    }
   ],
   "source": [
    "def obtain_industry(state_legislators, cycle='2016', ind='Q13'):\n",
    "    donations_by_industry = []\n",
    "    for index, candidate in enumerate(state_legislators[:,1]):\n",
    "        try:\n",
    "            candidate_name = state_legislators[:,0][index]\n",
    "            total_donations = CRP.candIndByInd.get(cid=candidate, cycle=cycle, ind=ind)['total']\n",
    "            donations_by_industry.append([candidate_name, total_donations])\n",
    "            print('Legislator ' + candidate_name + ' has received ' + total_donations + ' from donors affiliated with this industry: ' + ind)\n",
    "        except:\n",
    "            candidate_name = state_legislators[:,0][index]\n",
    "            donations_by_industry.append([candidate_name, 0])\n",
    "            print('Legislator ' + candidate_name + ' is not affiliated with this industry: ' + ind)\n",
    "    return donations_by_industry\n",
    "    \n",
    "donations_by_industry_Q13 = obtain_industry(state_legislators, '2016', 'Q13')"
   ]
  },
  {
   "cell_type": "code",
   "execution_count": 78,
   "metadata": {},
   "outputs": [
    {
     "name": "stdout",
     "output_type": "stream",
     "text": [
      "http://www.opensecrets.org/api/?method=CandIndByInd&output=json&apikey=4e8bab71c22740d56e73b43835f42def&cid=N00026148&cycle=2016&ind=Q12\n",
      "Legislator Louis B Gohmert Jr. is not affiliated with this industry: Q12\n",
      "http://www.opensecrets.org/api/?method=CandIndByInd&output=json&apikey=4e8bab71c22740d56e73b43835f42def&cid=N00026457&cycle=2016&ind=Q12\n",
      "Legislator Ted Poe is not affiliated with this industry: Q12\n",
      "http://www.opensecrets.org/api/?method=CandIndByInd&output=json&apikey=4e8bab71c22740d56e73b43835f42def&cid=N00008028&cycle=2016&ind=Q12\n",
      "Legislator Sam Johnson is not affiliated with this industry: Q12\n",
      "http://www.opensecrets.org/api/?method=CandIndByInd&output=json&apikey=4e8bab71c22740d56e73b43835f42def&cid=N00035972&cycle=2016&ind=Q12\n",
      "Legislator John Lee Ratcliffe is not affiliated with this industry: Q12\n",
      "http://www.opensecrets.org/api/?method=CandIndByInd&output=json&apikey=4e8bab71c22740d56e73b43835f42def&cid=N00024922&cycle=2016&ind=Q12\n",
      "Legislator Jeb Hensarling is not affiliated with this industry: Q12\n",
      "http://www.opensecrets.org/api/?method=CandIndByInd&output=json&apikey=4e8bab71c22740d56e73b43835f42def&cid=N00005656&cycle=2016&ind=Q12\n",
      "Legislator Joe Barton is not affiliated with this industry: Q12\n",
      "http://www.opensecrets.org/api/?method=CandIndByInd&output=json&apikey=4e8bab71c22740d56e73b43835f42def&cid=N00009738&cycle=2016&ind=Q12\n",
      "Legislator John Culberson is not affiliated with this industry: Q12\n",
      "http://www.opensecrets.org/api/?method=CandIndByInd&output=json&apikey=4e8bab71c22740d56e73b43835f42def&cid=N00005883&cycle=2016&ind=Q12\n",
      "Legislator Kevin Brady is not affiliated with this industry: Q12\n",
      "http://www.opensecrets.org/api/?method=CandIndByInd&output=json&apikey=4e8bab71c22740d56e73b43835f42def&cid=N00026686&cycle=2016&ind=Q12\n",
      "Legislator Al Green is not affiliated with this industry: Q12\n",
      "http://www.opensecrets.org/api/?method=CandIndByInd&output=json&apikey=4e8bab71c22740d56e73b43835f42def&cid=N00026460&cycle=2016&ind=Q12\n",
      "Legislator Michael McCaul is not affiliated with this industry: Q12\n",
      "http://www.opensecrets.org/api/?method=CandIndByInd&output=json&apikey=4e8bab71c22740d56e73b43835f42def&cid=N00026041&cycle=2016&ind=Q12\n",
      "Legislator Mike Conaway is not affiliated with this industry: Q12\n",
      "http://www.opensecrets.org/api/?method=CandIndByInd&output=json&apikey=4e8bab71c22740d56e73b43835f42def&cid=N00008799&cycle=2016&ind=Q12\n",
      "Legislator Kay Granger is not affiliated with this industry: Q12\n",
      "http://www.opensecrets.org/api/?method=CandIndByInd&output=json&apikey=4e8bab71c22740d56e73b43835f42def&cid=N00006052&cycle=2016&ind=Q12\n",
      "Legislator Mac Thornberry is not affiliated with this industry: Q12\n",
      "http://www.opensecrets.org/api/?method=CandIndByInd&output=json&apikey=4e8bab71c22740d56e73b43835f42def&cid=N00033539&cycle=2016&ind=Q12\n",
      "Legislator Randy Weber is not affiliated with this industry: Q12\n",
      "http://www.opensecrets.org/api/?method=CandIndByInd&output=json&apikey=4e8bab71c22740d56e73b43835f42def&cid=N00038809&cycle=2016&ind=Q12\n",
      "Legislator Vicente Gonzalez is not affiliated with this industry: Q12\n",
      "http://www.opensecrets.org/api/?method=CandIndByInd&output=json&apikey=4e8bab71c22740d56e73b43835f42def&cid=N00033540&cycle=2016&ind=Q12\n",
      "Legislator Beto O'Rourke is not affiliated with this industry: Q12\n",
      "http://www.opensecrets.org/api/?method=CandIndByInd&output=json&apikey=4e8bab71c22740d56e73b43835f42def&cid=N00031545&cycle=2016&ind=Q12\n",
      "Legislator Bill Flores is not affiliated with this industry: Q12\n",
      "http://www.opensecrets.org/api/?method=CandIndByInd&output=json&apikey=4e8bab71c22740d56e73b43835f42def&cid=N00005818&cycle=2016&ind=Q12\n",
      "Legislator Sheila Jackson Lee is not affiliated with this industry: Q12\n",
      "http://www.opensecrets.org/api/?method=CandIndByInd&output=json&apikey=4e8bab71c22740d56e73b43835f42def&cid=N00038285&cycle=2016&ind=Q12\n",
      "Legislator Jodey Arrington is not affiliated with this industry: Q12\n",
      "http://www.opensecrets.org/api/?method=CandIndByInd&output=json&apikey=4e8bab71c22740d56e73b43835f42def&cid=N00033316&cycle=2016&ind=Q12\n",
      "Legislator Joaquin Castro is not affiliated with this industry: Q12\n",
      "http://www.opensecrets.org/api/?method=CandIndByInd&output=json&apikey=4e8bab71c22740d56e73b43835f42def&cid=N00001811&cycle=2016&ind=Q12\n",
      "Legislator Lamar Smith is not affiliated with this industry: Q12\n",
      "http://www.opensecrets.org/api/?method=CandIndByInd&output=json&apikey=4e8bab71c22740d56e73b43835f42def&cid=N00029285&cycle=2016&ind=Q12\n",
      "Legislator Pete Olson is not affiliated with this industry: Q12\n",
      "http://www.opensecrets.org/api/?method=CandIndByInd&output=json&apikey=4e8bab71c22740d56e73b43835f42def&cid=N00031417&cycle=2016&ind=Q12\n",
      "Legislator Will Hurd is not affiliated with this industry: Q12\n",
      "http://www.opensecrets.org/api/?method=CandIndByInd&output=json&apikey=4e8bab71c22740d56e73b43835f42def&cid=N00026710&cycle=2016&ind=Q12\n",
      "Legislator Kenny Marchant is not affiliated with this industry: Q12\n",
      "http://www.opensecrets.org/api/?method=CandIndByInd&output=json&apikey=4e8bab71c22740d56e73b43835f42def&cid=N00030602&cycle=2016&ind=Q12\n",
      "Legislator Roger Williams is not affiliated with this industry: Q12\n",
      "http://www.opensecrets.org/api/?method=CandIndByInd&output=json&apikey=4e8bab71c22740d56e73b43835f42def&cid=N00025219&cycle=2016&ind=Q12\n",
      "Legislator Michael Burgess is not affiliated with this industry: Q12\n",
      "http://www.opensecrets.org/api/?method=CandIndByInd&output=json&apikey=4e8bab71c22740d56e73b43835f42def&cid=N00031672&cycle=2016&ind=Q12\n",
      "Legislator Blake Farenthold is not affiliated with this industry: Q12\n",
      "http://www.opensecrets.org/api/?method=CandIndByInd&output=json&apikey=4e8bab71c22740d56e73b43835f42def&cid=N00024978&cycle=2016&ind=Q12\n",
      "Legislator Henry Cuellar is not affiliated with this industry: Q12\n",
      "http://www.opensecrets.org/api/?method=CandIndByInd&output=json&apikey=4e8bab71c22740d56e73b43835f42def&cid=N00005870&cycle=2016&ind=Q12\n",
      "Legislator Gene Green is not affiliated with this industry: Q12\n",
      "http://www.opensecrets.org/api/?method=CandIndByInd&output=json&apikey=4e8bab71c22740d56e73b43835f42def&cid=N00008122&cycle=2016&ind=Q12\n",
      "Legislator Eddie Bernice Johnson is not affiliated with this industry: Q12\n",
      "http://www.opensecrets.org/api/?method=CandIndByInd&output=json&apikey=4e8bab71c22740d56e73b43835f42def&cid=N00025095&cycle=2016&ind=Q12\n",
      "Legislator John Carter is not affiliated with this industry: Q12\n",
      "http://www.opensecrets.org/api/?method=CandIndByInd&output=json&apikey=4e8bab71c22740d56e73b43835f42def&cid=N00005681&cycle=2016&ind=Q12\n",
      "Legislator Pete Sessions is not affiliated with this industry: Q12\n",
      "http://www.opensecrets.org/api/?method=CandIndByInd&output=json&apikey=4e8bab71c22740d56e73b43835f42def&cid=N00033839&cycle=2016&ind=Q12\n",
      "Legislator Marc Veasey is not affiliated with this industry: Q12\n",
      "http://www.opensecrets.org/api/?method=CandIndByInd&output=json&apikey=4e8bab71c22740d56e73b43835f42def&cid=N00034349&cycle=2016&ind=Q12\n",
      "Legislator Filemon Vela is not affiliated with this industry: Q12\n",
      "http://www.opensecrets.org/api/?method=CandIndByInd&output=json&apikey=4e8bab71c22740d56e73b43835f42def&cid=N00006023&cycle=2016&ind=Q12\n",
      "Legislator Lloyd Doggett is not affiliated with this industry: Q12\n",
      "http://www.opensecrets.org/api/?method=CandIndByInd&output=json&apikey=4e8bab71c22740d56e73b43835f42def&cid=N00005736&cycle=2016&ind=Q12\n",
      "Legislator Brian Babin is not affiliated with this industry: Q12\n",
      "http://www.opensecrets.org/api/?method=CandIndByInd&output=json&apikey=4e8bab71c22740d56e73b43835f42def&cid=N00024852&cycle=2016&ind=Q12\n",
      "Legislator John Cornyn is not affiliated with this industry: Q12\n",
      "http://www.opensecrets.org/api/?method=CandIndByInd&output=json&apikey=4e8bab71c22740d56e73b43835f42def&cid=N00033085&cycle=2016&ind=Q12\n",
      "Legislator Ted Cruz has received 2566 from donors affiliated with this industry: Q12\n"
     ]
    }
   ],
   "source": [
    "donations_by_industry_Q13 = np.array(donations_by_industry_Q13)\n",
    "donations_by_industry_Q12 = obtain_industry(state_legislators, cycle='2016', ind='Q12')\n",
    "donations_by_industry_Q12 = np.array(donations_by_industry_Q12)\n"
   ]
  },
  {
   "cell_type": "code",
   "execution_count": 79,
   "metadata": {},
   "outputs": [
    {
     "data": {
      "image/png": "[encoded data removed]",
      "text/plain": [
       "<matplotlib.figure.Figure at 0x109f21a90>"
      ]
     },
     "metadata": {},
     "output_type": "display_data"
    },
    {
     "data": {
      "image/png": "[encoded data removed]",
      "text/plain": [
       "<matplotlib.figure.Figure at 0x109f2d438>"
      ]
     },
     "metadata": {},
     "output_type": "display_data"
    }
   ],
   "source": [
    "import matplotlib.pyplot as plt \n",
    "\n",
    "def make_graphs(donations_by_industry, title):\n",
    "#     candidate_names = donations_by_industry[:,0]\n",
    "#     donations_received = donations_by_industry[:,1]\n",
    "    candidate_names, donations_received = zip(*donations_by_industry)\n",
    "    donations_received = list(map(int, donations_received))\n",
    "    plt.scatter(candidate_names, donations_received)\n",
    "    plt.xticks(rotation=90)\n",
    "    plt.title(title)\n",
    "    plt.savefig(title + '.png')\n",
    "    plt.show()\n",
    "\n",
    "make_graphs(donations_by_industry_Q13, 'Donations by Gun Rights Industry')\n",
    "make_graphs(donations_by_industry_Q12, 'Donations by Gun Control Industry')"
   ]
  },
  {
   "cell_type": "markdown",
   "metadata": {},
   "source": [
    "# Reply to tweet"
   ]
  },
  {
   "cell_type": "code",
   "execution_count": 80,
   "metadata": {},
   "outputs": [
    {
     "data": {
      "text/plain": [
       "Status(_api=<tweepy.api.API object at 0x109fd5400>, _json={'created_at': 'Mon Mar 26 14:00:40 +0000 2018', 'id': 978270513347858432, 'id_str': '978270513347858432', 'text': '@houstonstyle Hi Houston Style. I noticed you were interested in the 2nd ammendment. Heres some donation history fr… https://t.co/pz4FnGGdtX', 'truncated': True, 'entities': {'hashtags': [], 'symbols': [], 'user_mentions': [{'screen_name': 'houstonstyle', 'name': 'Houston Style', 'id': 29493760, 'id_str': '29493760', 'indices': [0, 13]}], 'urls': [{'url': 'https://t.co/pz4FnGGdtX', 'expanded_url': 'https://twitter.com/i/web/status/978270513347858432', 'display_url': 'twitter.com/i/web/status/9…', 'indices': [117, 140]}]}, 'source': '<a href=\"https://willdavis.fyi\" rel=\"nofollow\">Campaign Contributions</a>', 'in_reply_to_status_id': None, 'in_reply_to_status_id_str': None, 'in_reply_to_user_id': 29493760, 'in_reply_to_user_id_str': '29493760', 'in_reply_to_screen_name': 'houstonstyle', 'user': {'id': 974349318156152832, 'id_str': '974349318156152832', 'name': 'campaign_finance_bot', 'screen_name': 'campaignfinbot', 'location': '', 'description': '', 'url': None, 'entities': {'description': {'urls': []}}, 'protected': False, 'followers_count': 1, 'friends_count': 0, 'listed_count': 0, 'created_at': 'Thu Mar 15 18:19:14 +0000 2018', 'favourites_count': 0, 'utc_offset': None, 'time_zone': None, 'geo_enabled': False, 'verified': False, 'statuses_count': 3, 'lang': 'en', 'contributors_enabled': False, 'is_translator': False, 'is_translation_enabled': False, 'profile_background_color': 'F5F8FA', 'profile_background_image_url': None, 'profile_background_image_url_https': None, 'profile_background_tile': False, 'profile_image_url': 'http://pbs.twimg.com/profile_images/978162309871714304/ZGW6VLRR_normal.jpg', 'profile_image_url_https': 'https://pbs.twimg.com/profile_images/978162309871714304/ZGW6VLRR_normal.jpg', 'profile_banner_url': 'https://pbs.twimg.com/profile_banners/974349318156152832/1522047012', 'profile_link_color': '1DA1F2', 'profile_sidebar_border_color': 'C0DEED', 'profile_sidebar_fill_color': 'DDEEF6', 'profile_text_color': '333333', 'profile_use_background_image': True, 'has_extended_profile': False, 'default_profile': True, 'default_profile_image': False, 'following': False, 'follow_request_sent': False, 'notifications': False, 'translator_type': 'none'}, 'geo': None, 'coordinates': None, 'place': None, 'contributors': None, 'is_quote_status': False, 'retweet_count': 0, 'favorite_count': 0, 'favorited': False, 'retweeted': False, 'possibly_sensitive': False, 'lang': 'en'}, created_at=datetime.datetime(2018, 3, 26, 14, 0, 40), id=978270513347858432, id_str='978270513347858432', text='@houstonstyle Hi Houston Style. I noticed you were interested in the 2nd ammendment. Heres some donation history fr… https://t.co/pz4FnGGdtX', truncated=True, entities={'hashtags': [], 'symbols': [], 'user_mentions': [{'screen_name': 'houstonstyle', 'name': 'Houston Style', 'id': 29493760, 'id_str': '29493760', 'indices': [0, 13]}], 'urls': [{'url': 'https://t.co/pz4FnGGdtX', 'expanded_url': 'https://twitter.com/i/web/status/978270513347858432', 'display_url': 'twitter.com/i/web/status/9…', 'indices': [117, 140]}]}, source='Campaign Contributions', source_url='https://willdavis.fyi', in_reply_to_status_id=None, in_reply_to_status_id_str=None, in_reply_to_user_id=29493760, in_reply_to_user_id_str='29493760', in_reply_to_screen_name='houstonstyle', author=User(_api=<tweepy.api.API object at 0x109fd5400>, _json={'id': 974349318156152832, 'id_str': '974349318156152832', 'name': 'campaign_finance_bot', 'screen_name': 'campaignfinbot', 'location': '', 'description': '', 'url': None, 'entities': {'description': {'urls': []}}, 'protected': False, 'followers_count': 1, 'friends_count': 0, 'listed_count': 0, 'created_at': 'Thu Mar 15 18:19:14 +0000 2018', 'favourites_count': 0, 'utc_offset': None, 'time_zone': None, 'geo_enabled': False, 'verified': False, 'statuses_count': 3, 'lang': 'en', 'contributors_enabled': False, 'is_translator': False, 'is_translation_enabled': False, 'profile_background_color': 'F5F8FA', 'profile_background_image_url': None, 'profile_background_image_url_https': None, 'profile_background_tile': False, 'profile_image_url': 'http://pbs.twimg.com/profile_images/978162309871714304/ZGW6VLRR_normal.jpg', 'profile_image_url_https': 'https://pbs.twimg.com/profile_images/978162309871714304/ZGW6VLRR_normal.jpg', 'profile_banner_url': 'https://pbs.twimg.com/profile_banners/974349318156152832/1522047012', 'profile_link_color': '1DA1F2', 'profile_sidebar_border_color': 'C0DEED', 'profile_sidebar_fill_color': 'DDEEF6', 'profile_text_color': '333333', 'profile_use_background_image': True, 'has_extended_profile': False, 'default_profile': True, 'default_profile_image': False, 'following': False, 'follow_request_sent': False, 'notifications': False, 'translator_type': 'none'}, id=974349318156152832, id_str='974349318156152832', name='campaign_finance_bot', screen_name='campaignfinbot', location='', description='', url=None, entities={'description': {'urls': []}}, protected=False, followers_count=1, friends_count=0, listed_count=0, created_at=datetime.datetime(2018, 3, 15, 18, 19, 14), favourites_count=0, utc_offset=None, time_zone=None, geo_enabled=False, verified=False, statuses_count=3, lang='en', contributors_enabled=False, is_translator=False, is_translation_enabled=False, profile_background_color='F5F8FA', profile_background_image_url=None, profile_background_image_url_https=None, profile_background_tile=False, profile_image_url='http://pbs.twimg.com/profile_images/978162309871714304/ZGW6VLRR_normal.jpg', profile_image_url_https='https://pbs.twimg.com/profile_images/978162309871714304/ZGW6VLRR_normal.jpg', profile_banner_url='https://pbs.twimg.com/profile_banners/974349318156152832/1522047012', profile_link_color='1DA1F2', profile_sidebar_border_color='C0DEED', profile_sidebar_fill_color='DDEEF6', profile_text_color='333333', profile_use_background_image=True, has_extended_profile=False, default_profile=True, default_profile_image=False, following=False, follow_request_sent=False, notifications=False, translator_type='none'), user=User(_api=<tweepy.api.API object at 0x109fd5400>, _json={'id': 974349318156152832, 'id_str': '974349318156152832', 'name': 'campaign_finance_bot', 'screen_name': 'campaignfinbot', 'location': '', 'description': '', 'url': None, 'entities': {'description': {'urls': []}}, 'protected': False, 'followers_count': 1, 'friends_count': 0, 'listed_count': 0, 'created_at': 'Thu Mar 15 18:19:14 +0000 2018', 'favourites_count': 0, 'utc_offset': None, 'time_zone': None, 'geo_enabled': False, 'verified': False, 'statuses_count': 3, 'lang': 'en', 'contributors_enabled': False, 'is_translator': False, 'is_translation_enabled': False, 'profile_background_color': 'F5F8FA', 'profile_background_image_url': None, 'profile_background_image_url_https': None, 'profile_background_tile': False, 'profile_image_url': 'http://pbs.twimg.com/profile_images/978162309871714304/ZGW6VLRR_normal.jpg', 'profile_image_url_https': 'https://pbs.twimg.com/profile_images/978162309871714304/ZGW6VLRR_normal.jpg', 'profile_banner_url': 'https://pbs.twimg.com/profile_banners/974349318156152832/1522047012', 'profile_link_color': '1DA1F2', 'profile_sidebar_border_color': 'C0DEED', 'profile_sidebar_fill_color': 'DDEEF6', 'profile_text_color': '333333', 'profile_use_background_image': True, 'has_extended_profile': False, 'default_profile': True, 'default_profile_image': False, 'following': False, 'follow_request_sent': False, 'notifications': False, 'translator_type': 'none'}, id=974349318156152832, id_str='974349318156152832', name='campaign_finance_bot', screen_name='campaignfinbot', location='', description='', url=None, entities={'description': {'urls': []}}, protected=False, followers_count=1, friends_count=0, listed_count=0, created_at=datetime.datetime(2018, 3, 15, 18, 19, 14), favourites_count=0, utc_offset=None, time_zone=None, geo_enabled=False, verified=False, statuses_count=3, lang='en', contributors_enabled=False, is_translator=False, is_translation_enabled=False, profile_background_color='F5F8FA', profile_background_image_url=None, profile_background_image_url_https=None, profile_background_tile=False, profile_image_url='http://pbs.twimg.com/profile_images/978162309871714304/ZGW6VLRR_normal.jpg', profile_image_url_https='https://pbs.twimg.com/profile_images/978162309871714304/ZGW6VLRR_normal.jpg', profile_banner_url='https://pbs.twimg.com/profile_banners/974349318156152832/1522047012', profile_link_color='1DA1F2', profile_sidebar_border_color='C0DEED', profile_sidebar_fill_color='DDEEF6', profile_text_color='333333', profile_use_background_image=True, has_extended_profile=False, default_profile=True, default_profile_image=False, following=False, follow_request_sent=False, notifications=False, translator_type='none'), geo=None, coordinates=None, place=None, contributors=None, is_quote_status=False, retweet_count=0, favorite_count=0, favorited=False, retweeted=False, possibly_sensitive=False, lang='en')"
      ]
     },
     "execution_count": 80,
     "metadata": {},
     "output_type": "execute_result"
    }
   ],
   "source": [
    "#Reply to tweet\n",
    "#Uses UserName and Status Input\n",
    "reply_status = \"@%s %s\" % (tweetId, status)\n",
    "api.update_with_media('Donations by Gun Rights Industry.png', status=reply_status, in_reply_to_status=tweet.id)"
   ]
  },
  {
   "cell_type": "code",
   "execution_count": 81,
   "metadata": {},
   "outputs": [
    {
     "data": {
      "text/plain": [
       "Status(_api=<tweepy.api.API object at 0x109fd5400>, _json={'created_at': 'Mon Mar 26 14:00:41 +0000 2018', 'id': 978270519807143936, 'id_str': '978270519807143936', 'text': 'https://t.co/XicB4LHWvE', 'truncated': False, 'entities': {'hashtags': [], 'symbols': [], 'user_mentions': [], 'urls': [], 'media': [{'id': 978270517668057088, 'id_str': '978270517668057088', 'indices': [0, 23], 'media_url': 'http://pbs.twimg.com/media/DZOD2kvXkAA7rDq.jpg', 'media_url_https': 'https://pbs.twimg.com/media/DZOD2kvXkAA7rDq.jpg', 'url': 'https://t.co/XicB4LHWvE', 'display_url': 'pic.twitter.com/XicB4LHWvE', 'expanded_url': 'https://twitter.com/campaignfinbot/status/978270519807143936/photo/1', 'type': 'photo', 'sizes': {'thumb': {'w': 150, 'h': 150, 'resize': 'crop'}, 'large': {'w': 432, 'h': 288, 'resize': 'fit'}, 'small': {'w': 432, 'h': 288, 'resize': 'fit'}, 'medium': {'w': 432, 'h': 288, 'resize': 'fit'}}}]}, 'extended_entities': {'media': [{'id': 978270517668057088, 'id_str': '978270517668057088', 'indices': [0, 23], 'media_url': 'http://pbs.twimg.com/media/DZOD2kvXkAA7rDq.jpg', 'media_url_https': 'https://pbs.twimg.com/media/DZOD2kvXkAA7rDq.jpg', 'url': 'https://t.co/XicB4LHWvE', 'display_url': 'pic.twitter.com/XicB4LHWvE', 'expanded_url': 'https://twitter.com/campaignfinbot/status/978270519807143936/photo/1', 'type': 'photo', 'sizes': {'thumb': {'w': 150, 'h': 150, 'resize': 'crop'}, 'large': {'w': 432, 'h': 288, 'resize': 'fit'}, 'small': {'w': 432, 'h': 288, 'resize': 'fit'}, 'medium': {'w': 432, 'h': 288, 'resize': 'fit'}}}]}, 'source': '<a href=\"https://willdavis.fyi\" rel=\"nofollow\">Campaign Contributions</a>', 'in_reply_to_status_id': None, 'in_reply_to_status_id_str': None, 'in_reply_to_user_id': None, 'in_reply_to_user_id_str': None, 'in_reply_to_screen_name': None, 'user': {'id': 974349318156152832, 'id_str': '974349318156152832', 'name': 'campaign_finance_bot', 'screen_name': 'campaignfinbot', 'location': '', 'description': '', 'url': None, 'entities': {'description': {'urls': []}}, 'protected': False, 'followers_count': 1, 'friends_count': 0, 'listed_count': 0, 'created_at': 'Thu Mar 15 18:19:14 +0000 2018', 'favourites_count': 0, 'utc_offset': None, 'time_zone': None, 'geo_enabled': False, 'verified': False, 'statuses_count': 4, 'lang': 'en', 'contributors_enabled': False, 'is_translator': False, 'is_translation_enabled': False, 'profile_background_color': 'F5F8FA', 'profile_background_image_url': None, 'profile_background_image_url_https': None, 'profile_background_tile': False, 'profile_image_url': 'http://pbs.twimg.com/profile_images/978162309871714304/ZGW6VLRR_normal.jpg', 'profile_image_url_https': 'https://pbs.twimg.com/profile_images/978162309871714304/ZGW6VLRR_normal.jpg', 'profile_banner_url': 'https://pbs.twimg.com/profile_banners/974349318156152832/1522047012', 'profile_link_color': '1DA1F2', 'profile_sidebar_border_color': 'C0DEED', 'profile_sidebar_fill_color': 'DDEEF6', 'profile_text_color': '333333', 'profile_use_background_image': True, 'has_extended_profile': False, 'default_profile': True, 'default_profile_image': False, 'following': False, 'follow_request_sent': False, 'notifications': False, 'translator_type': 'none'}, 'geo': None, 'coordinates': None, 'place': None, 'contributors': None, 'is_quote_status': False, 'retweet_count': 0, 'favorite_count': 0, 'favorited': False, 'retweeted': False, 'possibly_sensitive': False, 'lang': 'und'}, created_at=datetime.datetime(2018, 3, 26, 14, 0, 41), id=978270519807143936, id_str='978270519807143936', text='https://t.co/XicB4LHWvE', truncated=False, entities={'hashtags': [], 'symbols': [], 'user_mentions': [], 'urls': [], 'media': [{'id': 978270517668057088, 'id_str': '978270517668057088', 'indices': [0, 23], 'media_url': 'http://pbs.twimg.com/media/DZOD2kvXkAA7rDq.jpg', 'media_url_https': 'https://pbs.twimg.com/media/DZOD2kvXkAA7rDq.jpg', 'url': 'https://t.co/XicB4LHWvE', 'display_url': 'pic.twitter.com/XicB4LHWvE', 'expanded_url': 'https://twitter.com/campaignfinbot/status/978270519807143936/photo/1', 'type': 'photo', 'sizes': {'thumb': {'w': 150, 'h': 150, 'resize': 'crop'}, 'large': {'w': 432, 'h': 288, 'resize': 'fit'}, 'small': {'w': 432, 'h': 288, 'resize': 'fit'}, 'medium': {'w': 432, 'h': 288, 'resize': 'fit'}}}]}, extended_entities={'media': [{'id': 978270517668057088, 'id_str': '978270517668057088', 'indices': [0, 23], 'media_url': 'http://pbs.twimg.com/media/DZOD2kvXkAA7rDq.jpg', 'media_url_https': 'https://pbs.twimg.com/media/DZOD2kvXkAA7rDq.jpg', 'url': 'https://t.co/XicB4LHWvE', 'display_url': 'pic.twitter.com/XicB4LHWvE', 'expanded_url': 'https://twitter.com/campaignfinbot/status/978270519807143936/photo/1', 'type': 'photo', 'sizes': {'thumb': {'w': 150, 'h': 150, 'resize': 'crop'}, 'large': {'w': 432, 'h': 288, 'resize': 'fit'}, 'small': {'w': 432, 'h': 288, 'resize': 'fit'}, 'medium': {'w': 432, 'h': 288, 'resize': 'fit'}}}]}, source='Campaign Contributions', source_url='https://willdavis.fyi', in_reply_to_status_id=None, in_reply_to_status_id_str=None, in_reply_to_user_id=None, in_reply_to_user_id_str=None, in_reply_to_screen_name=None, author=User(_api=<tweepy.api.API object at 0x109fd5400>, _json={'id': 974349318156152832, 'id_str': '974349318156152832', 'name': 'campaign_finance_bot', 'screen_name': 'campaignfinbot', 'location': '', 'description': '', 'url': None, 'entities': {'description': {'urls': []}}, 'protected': False, 'followers_count': 1, 'friends_count': 0, 'listed_count': 0, 'created_at': 'Thu Mar 15 18:19:14 +0000 2018', 'favourites_count': 0, 'utc_offset': None, 'time_zone': None, 'geo_enabled': False, 'verified': False, 'statuses_count': 4, 'lang': 'en', 'contributors_enabled': False, 'is_translator': False, 'is_translation_enabled': False, 'profile_background_color': 'F5F8FA', 'profile_background_image_url': None, 'profile_background_image_url_https': None, 'profile_background_tile': False, 'profile_image_url': 'http://pbs.twimg.com/profile_images/978162309871714304/ZGW6VLRR_normal.jpg', 'profile_image_url_https': 'https://pbs.twimg.com/profile_images/978162309871714304/ZGW6VLRR_normal.jpg', 'profile_banner_url': 'https://pbs.twimg.com/profile_banners/974349318156152832/1522047012', 'profile_link_color': '1DA1F2', 'profile_sidebar_border_color': 'C0DEED', 'profile_sidebar_fill_color': 'DDEEF6', 'profile_text_color': '333333', 'profile_use_background_image': True, 'has_extended_profile': False, 'default_profile': True, 'default_profile_image': False, 'following': False, 'follow_request_sent': False, 'notifications': False, 'translator_type': 'none'}, id=974349318156152832, id_str='974349318156152832', name='campaign_finance_bot', screen_name='campaignfinbot', location='', description='', url=None, entities={'description': {'urls': []}}, protected=False, followers_count=1, friends_count=0, listed_count=0, created_at=datetime.datetime(2018, 3, 15, 18, 19, 14), favourites_count=0, utc_offset=None, time_zone=None, geo_enabled=False, verified=False, statuses_count=4, lang='en', contributors_enabled=False, is_translator=False, is_translation_enabled=False, profile_background_color='F5F8FA', profile_background_image_url=None, profile_background_image_url_https=None, profile_background_tile=False, profile_image_url='http://pbs.twimg.com/profile_images/978162309871714304/ZGW6VLRR_normal.jpg', profile_image_url_https='https://pbs.twimg.com/profile_images/978162309871714304/ZGW6VLRR_normal.jpg', profile_banner_url='https://pbs.twimg.com/profile_banners/974349318156152832/1522047012', profile_link_color='1DA1F2', profile_sidebar_border_color='C0DEED', profile_sidebar_fill_color='DDEEF6', profile_text_color='333333', profile_use_background_image=True, has_extended_profile=False, default_profile=True, default_profile_image=False, following=False, follow_request_sent=False, notifications=False, translator_type='none'), user=User(_api=<tweepy.api.API object at 0x109fd5400>, _json={'id': 974349318156152832, 'id_str': '974349318156152832', 'name': 'campaign_finance_bot', 'screen_name': 'campaignfinbot', 'location': '', 'description': '', 'url': None, 'entities': {'description': {'urls': []}}, 'protected': False, 'followers_count': 1, 'friends_count': 0, 'listed_count': 0, 'created_at': 'Thu Mar 15 18:19:14 +0000 2018', 'favourites_count': 0, 'utc_offset': None, 'time_zone': None, 'geo_enabled': False, 'verified': False, 'statuses_count': 4, 'lang': 'en', 'contributors_enabled': False, 'is_translator': False, 'is_translation_enabled': False, 'profile_background_color': 'F5F8FA', 'profile_background_image_url': None, 'profile_background_image_url_https': None, 'profile_background_tile': False, 'profile_image_url': 'http://pbs.twimg.com/profile_images/978162309871714304/ZGW6VLRR_normal.jpg', 'profile_image_url_https': 'https://pbs.twimg.com/profile_images/978162309871714304/ZGW6VLRR_normal.jpg', 'profile_banner_url': 'https://pbs.twimg.com/profile_banners/974349318156152832/1522047012', 'profile_link_color': '1DA1F2', 'profile_sidebar_border_color': 'C0DEED', 'profile_sidebar_fill_color': 'DDEEF6', 'profile_text_color': '333333', 'profile_use_background_image': True, 'has_extended_profile': False, 'default_profile': True, 'default_profile_image': False, 'following': False, 'follow_request_sent': False, 'notifications': False, 'translator_type': 'none'}, id=974349318156152832, id_str='974349318156152832', name='campaign_finance_bot', screen_name='campaignfinbot', location='', description='', url=None, entities={'description': {'urls': []}}, protected=False, followers_count=1, friends_count=0, listed_count=0, created_at=datetime.datetime(2018, 3, 15, 18, 19, 14), favourites_count=0, utc_offset=None, time_zone=None, geo_enabled=False, verified=False, statuses_count=4, lang='en', contributors_enabled=False, is_translator=False, is_translation_enabled=False, profile_background_color='F5F8FA', profile_background_image_url=None, profile_background_image_url_https=None, profile_background_tile=False, profile_image_url='http://pbs.twimg.com/profile_images/978162309871714304/ZGW6VLRR_normal.jpg', profile_image_url_https='https://pbs.twimg.com/profile_images/978162309871714304/ZGW6VLRR_normal.jpg', profile_banner_url='https://pbs.twimg.com/profile_banners/974349318156152832/1522047012', profile_link_color='1DA1F2', profile_sidebar_border_color='C0DEED', profile_sidebar_fill_color='DDEEF6', profile_text_color='333333', profile_use_background_image=True, has_extended_profile=False, default_profile=True, default_profile_image=False, following=False, follow_request_sent=False, notifications=False, translator_type='none'), geo=None, coordinates=None, place=None, contributors=None, is_quote_status=False, retweet_count=0, favorite_count=0, favorited=False, retweeted=False, possibly_sensitive=False, lang='und')"
      ]
     },
     "execution_count": 81,
     "metadata": {},
     "output_type": "execute_result"
    }
   ],
   "source": [
    "api.update_with_media('Donations by Gun Control Industry.png', in_reply_to_status=tweet.id)"
   ]
  },
  {
   "cell_type": "code",
   "execution_count": null,
   "metadata": {
    "collapsed": true
   },
   "outputs": [],
   "source": []
  },
  {
   "cell_type": "code",
   "execution_count": null,
   "metadata": {
    "collapsed": true
   },
   "outputs": [],
   "source": []
  }
 ],
 "metadata": {
  "kernelspec": {
   "display_name": "Python 3",
   "language": "python",
   "name": "python3"
  },
  "language_info": {
   "codemirror_mode": {
    "name": "ipython",
    "version": 3
   },
   "file_extension": ".py",
   "mimetype": "text/x-python",
   "name": "python",
   "nbconvert_exporter": "python",
   "pygments_lexer": "ipython3",
   "version": "3.6.1"
  }
 },
 "nbformat": 4,
 "nbformat_minor": 2
}
