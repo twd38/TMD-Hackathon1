{
 "cells": [
  {
   "cell_type": "code",
   "execution_count": 34,
   "metadata": {},
   "outputs": [],
   "source": [
    "import os\n",
    "import time\n",
    "from random import random\n",
    "import tweepy as tp\n",
    "import jsonpickle\n",
    "\n",
    "import sys\n",
    "import string\n",
    "import re\n",
    "import us\n",
    "import simplejson\n",
    "from twython import Twython\n",
    "import matplotlib\n",
    "import matplotlib.pyplot as plt\n",
    "\n",
    "from datetime import datetime\n",
    "from dateutil import parser as dateparser\n",
    "import time"
   ]
  },
  {
   "cell_type": "code",
   "execution_count": 35,
   "metadata": {
    "collapsed": true
   },
   "outputs": [],
   "source": [
    "consumer_key = 'qpKpIIQZKVO6NT4fXKoNJyTyH'\n",
    "consumer_secret = 'Tr6JzcuIM6B69TyW2KP5y3Ztx0h7HKM8KIioM2kWhKvB2mQ1Ok'\n",
    "access_token = '249870075-QbSdYjurpy5vrsqwde7W68Ud0qKIenUYwMKSEoNi'\n",
    "access_secret = 'Ueq1txyE5fUPytvPdy2mODphTytnOziQIFuWggzCwGP3h'\n"
   ]
  },
  {
   "cell_type": "code",
   "execution_count": 36,
   "metadata": {},
   "outputs": [],
   "source": [
    "# login to twitter account api\n",
    "auth = tp.OAuthHandler(consumer_key, consumer_secret)\n",
    "auth.set_access_token(access_token, access_secret)\n",
    "api = tp.API(auth)\n"
   ]
  },
  {
   "cell_type": "code",
   "execution_count": 109,
   "metadata": {
    "collapsed": true
   },
   "outputs": [],
   "source": [
    "searchQuery = 'place:96683cc9126741d1 #2ndammendment'"
   ]
  },
  {
   "cell_type": "code",
   "execution_count": 110,
   "metadata": {},
   "outputs": [],
   "source": [
    "#Maximum number of tweets we want to collect \n",
    "maxTweets = 1\n",
    "#The twitter Search API allows up to 100 tweets per query\n",
    "tweetsPerQry = 1"
   ]
  },
  {
   "cell_type": "code",
   "execution_count": 111,
   "metadata": {},
   "outputs": [
    {
     "name": "stdout",
     "output_type": "stream",
     "text": [
      "Downloaded 1 tweets\n"
     ]
    }
   ],
   "source": [
    "tweetCount = 0\n",
    "\n",
    "#Open a text file to save the tweets to\n",
    "with open('PoGo_USA_Tutorial.json', 'w') as f:\n",
    "\n",
    "    #Tell the Cursor method that we want to use the Search API (api.search)\n",
    "    #Also tell Cursor our query, and the maximum number of tweets to return\n",
    "    for tweet in tp.Cursor(api.search,q=searchQuery).items(maxTweets) :         \n",
    "\n",
    "        #Verify the tweet has place info before writing (It should, if it got past our place filter)\n",
    "        if tweet.place is not None:\n",
    "            \n",
    "            #Write the JSON format to the text file, and add one to the number of tweets we've collected\n",
    "            newTweet = jsonpickle.encode(tweet._json, unpicklable=False)\n",
    "            tweetCount += 1\n",
    "\n",
    "    #Display how many tweets we have collected\n",
    "    print(\"Downloaded {0} tweets\".format(tweetCount))\n",
    "#     print(tweet)"
   ]
  },
  {
   "cell_type": "code",
   "execution_count": 112,
   "metadata": {},
   "outputs": [
    {
     "name": "stdout",
     "output_type": "stream",
     "text": [
      "Nevada, USA\n"
     ]
    }
   ],
   "source": [
    "print(tweet.place.full_name)"
   ]
  },
  {
   "cell_type": "code",
   "execution_count": 116,
   "metadata": {},
   "outputs": [
    {
     "data": {
      "text/plain": [
       "'Nevada USA'"
      ]
     },
     "execution_count": 116,
     "metadata": {},
     "output_type": "execute_result"
    }
   ],
   "source": [
    "location = tweet.place.full_name\n",
    "location = location.split(',')\n",
    "location = ''.join(location)\n",
    "location = location.strip()\n",
    "location\n"
   ]
  },
  {
   "cell_type": "code",
   "execution_count": 117,
   "metadata": {
    "collapsed": true
   },
   "outputs": [],
   "source": [
    "us_state_abbrev = {\n",
    "    'Alabama': 'AL',\n",
    "    'Alaska': 'AK',\n",
    "    'Arizona': 'AZ',\n",
    "    'Arkansas': 'AR',\n",
    "    'California': 'CA',\n",
    "    'Colorado': 'CO',\n",
    "    'Connecticut': 'CT',\n",
    "    'Delaware': 'DE',\n",
    "    'Florida': 'FL',\n",
    "    'Georgia': 'GA',\n",
    "    'Hawaii': 'HI',\n",
    "    'Idaho': 'ID',\n",
    "    'Illinois': 'IL',\n",
    "    'Indiana': 'IN',\n",
    "    'Iowa': 'IA',\n",
    "    'Kansas': 'KS',\n",
    "    'Kentucky': 'KY',\n",
    "    'Louisiana': 'LA',\n",
    "    'Maine': 'ME',\n",
    "    'Maryland': 'MD',\n",
    "    'Massachusetts': 'MA',\n",
    "    'Michigan': 'MI',\n",
    "    'Minnesota': 'MN',\n",
    "    'Mississippi': 'MS',\n",
    "    'Missouri': 'MO',\n",
    "    'Montana': 'MT',\n",
    "    'Nebraska': 'NE',\n",
    "    'Nevada': 'NV',\n",
    "    'New Hampshire': 'NH',\n",
    "    'New Jersey': 'NJ',\n",
    "    'New Mexico': 'NM',\n",
    "    'New York': 'NY',\n",
    "    'North Carolina': 'NC',\n",
    "    'North Dakota': 'ND',\n",
    "    'Ohio': 'OH',\n",
    "    'Oklahoma': 'OK',\n",
    "    'Oregon': 'OR',\n",
    "    'Pennsylvania': 'PA',\n",
    "    'Rhode Island': 'RI',\n",
    "    'South Carolina': 'SC',\n",
    "    'South Dakota': 'SD',\n",
    "    'Tennessee': 'TN',\n",
    "    'Texas': 'TX',\n",
    "    'Utah': 'UT',\n",
    "    'Vermont': 'VT',\n",
    "    'Virginia': 'VA',\n",
    "    'Washington': 'WA',\n",
    "    'West Virginia': 'WV',\n",
    "    'Wisconsin': 'WI',\n",
    "    'Wyoming': 'WY',\n",
    "}\n"
   ]
  },
  {
   "cell_type": "code",
   "execution_count": 122,
   "metadata": {},
   "outputs": [
    {
     "name": "stdout",
     "output_type": "stream",
     "text": [
      "location: Nevada\n"
     ]
    },
    {
     "data": {
      "text/plain": [
       "'NV'"
      ]
     },
     "execution_count": 122,
     "metadata": {},
     "output_type": "execute_result"
    }
   ],
   "source": [
    "states = [\"AL\", \"AK\", \"AZ\", \"AR\", \"CA\", \"CO\", \"CT\", \"DC\", \"DE\", \"Fl\", \"GA\", \n",
    "          \"HI\", \"ID\", \"IL\", \"IN\", \"IA\", \"KS\", \"KY\", \"LA\", \"ME\", \"MD\", \n",
    "          \"MA\", \"MI\", \"MN\", \"MS\", \"MO\", \"MT\", \"NE\", \"NV\", \"NH\", \"NJ\", \n",
    "          \"NM\", \"NY\", \"NC\", \"ND\", \"OH\", \"OK\", \"OR\", \"PA\", \"RI\", \"SC\", \n",
    "          \"SD\", \"TN\", \"TX\", \"UT\", \"VT\", \"VA\", \"WA\", \"WV\", \"WI\", \"WY\", \n",
    "          \"Alabama\",\"Alaska\",\"Arizona\",\"Arkansas\",\"California\",\"Colorado\",\n",
    "          \"Connecticut\",\"Delaware\",\"Florida\",\"Georgia\",\"Hawaii\",\"Idaho\",\"Illinois\",\n",
    "          \"Indiana\",\"Iowa\",\"Kansas\",\"Kentucky\",\"Louisiana\",\"Maine\",\"Maryland\",\n",
    "          \"Massachusetts\",\"Michigan\",\"Minnesota\",\"Mississippi\",\"Missouri\",\"Montana\",\n",
    "          \"Nebraska\",\"Nevada\",\"New Hampshire\",\"New Jersey\",\"New Mexico\",\"New York\",\n",
    "          \"North Carolina\",\"North Dakota\",\"Ohio\",\"Oklahoma\",\"Oregon\",\"Pennsylvania\",\n",
    "          \"Rhode Island\",\"South Carolina\",\"South Dakota\",\"Tennessee\",\"Texas\",\"Utah\",\n",
    "          \"Vermont\",\"Virginia\",\"Washington\",\"West Virginia\",\"Wisconsin\",\"Wyoming\"]\n",
    "\n",
    "\n",
    "for n in range(0,len(states)) :\n",
    "        if states[n] in location:\n",
    "            location = states[n]\n",
    "            print('location: ' + location)\n",
    "            \n",
    "us_state_abbrev[location]\n"
   ]
  },
  {
   "cell_type": "code",
   "execution_count": null,
   "metadata": {
    "collapsed": true
   },
   "outputs": [],
   "source": []
  },
  {
   "cell_type": "code",
   "execution_count": 102,
   "metadata": {},
   "outputs": [
    {
     "name": "stdout",
     "output_type": "stream",
     "text": [
      "dominikki2692\n"
     ]
    }
   ],
   "source": [
    "tweetId = tweet.user.screen_name\n",
    "print(tweetId)"
   ]
  },
  {
   "cell_type": "code",
   "execution_count": 103,
   "metadata": {},
   "outputs": [],
   "source": [
    "#Insert status generated from our open source library and the location of the tweet.\n",
    "status = \"Dope status\""
   ]
  },
  {
   "cell_type": "code",
   "execution_count": null,
   "metadata": {},
   "outputs": [],
   "source": []
  },
  {
   "cell_type": "code",
   "execution_count": null,
   "metadata": {
    "collapsed": true
   },
   "outputs": [],
   "source": []
  },
  {
   "cell_type": "code",
   "execution_count": 79,
   "metadata": {},
   "outputs": [],
   "source": []
  },
  {
   "cell_type": "code",
   "execution_count": 98,
   "metadata": {},
   "outputs": [
    {
     "data": {
      "text/plain": [
       "Status(_api=<tweepy.api.API object at 0x11185bf98>, _json={'created_at': 'Fri Mar 23 01:41:40 +0000 2018', 'id': 976997376165629952, 'id_str': '976997376165629952', 'text': '@dominikki2692 Dope status', 'truncated': False, 'entities': {'hashtags': [], 'symbols': [], 'user_mentions': [{'screen_name': 'dominikki2692', 'name': 'Dominique Rodriguez', 'id': 821898744, 'id_str': '821898744', 'indices': [0, 14]}], 'urls': []}, 'source': '<a href=\"https://willdavis.fyi\" rel=\"nofollow\">Campaign Finance Bot</a>', 'in_reply_to_status_id': None, 'in_reply_to_status_id_str': None, 'in_reply_to_user_id': 821898744, 'in_reply_to_user_id_str': '821898744', 'in_reply_to_screen_name': 'dominikki2692', 'user': {'id': 249870075, 'id_str': '249870075', 'name': 'Will Davis', 'screen_name': '_willdavis_', 'location': 'Manhattan, NY', 'description': 'TAMU 16 | Cornell 18', 'url': None, 'entities': {'description': {'urls': []}}, 'protected': False, 'followers_count': 172, 'friends_count': 323, 'listed_count': 2, 'created_at': 'Wed Feb 09 23:26:13 +0000 2011', 'favourites_count': 814, 'utc_offset': -18000, 'time_zone': 'Central Time (US & Canada)', 'geo_enabled': False, 'verified': False, 'statuses_count': 882, 'lang': 'en', 'contributors_enabled': False, 'is_translator': False, 'is_translation_enabled': False, 'profile_background_color': 'C0DEED', 'profile_background_image_url': 'http://pbs.twimg.com/profile_background_images/224912233/a.jpg', 'profile_background_image_url_https': 'https://pbs.twimg.com/profile_background_images/224912233/a.jpg', 'profile_background_tile': False, 'profile_image_url': 'http://pbs.twimg.com/profile_images/940743304328765440/NgUENhHm_normal.jpg', 'profile_image_url_https': 'https://pbs.twimg.com/profile_images/940743304328765440/NgUENhHm_normal.jpg', 'profile_banner_url': 'https://pbs.twimg.com/profile_banners/249870075/1479497380', 'profile_link_color': 'FAB81E', 'profile_sidebar_border_color': 'C0DEED', 'profile_sidebar_fill_color': 'DDEEF6', 'profile_text_color': '333333', 'profile_use_background_image': True, 'has_extended_profile': False, 'default_profile': False, 'default_profile_image': False, 'following': False, 'follow_request_sent': False, 'notifications': False, 'translator_type': 'none'}, 'geo': None, 'coordinates': None, 'place': None, 'contributors': None, 'is_quote_status': False, 'retweet_count': 0, 'favorite_count': 0, 'favorited': False, 'retweeted': False, 'lang': 'en'}, created_at=datetime.datetime(2018, 3, 23, 1, 41, 40), id=976997376165629952, id_str='976997376165629952', text='@dominikki2692 Dope status', truncated=False, entities={'hashtags': [], 'symbols': [], 'user_mentions': [{'screen_name': 'dominikki2692', 'name': 'Dominique Rodriguez', 'id': 821898744, 'id_str': '821898744', 'indices': [0, 14]}], 'urls': []}, source='Campaign Finance Bot', source_url='https://willdavis.fyi', in_reply_to_status_id=None, in_reply_to_status_id_str=None, in_reply_to_user_id=821898744, in_reply_to_user_id_str='821898744', in_reply_to_screen_name='dominikki2692', author=User(_api=<tweepy.api.API object at 0x11185bf98>, _json={'id': 249870075, 'id_str': '249870075', 'name': 'Will Davis', 'screen_name': '_willdavis_', 'location': 'Manhattan, NY', 'description': 'TAMU 16 | Cornell 18', 'url': None, 'entities': {'description': {'urls': []}}, 'protected': False, 'followers_count': 172, 'friends_count': 323, 'listed_count': 2, 'created_at': 'Wed Feb 09 23:26:13 +0000 2011', 'favourites_count': 814, 'utc_offset': -18000, 'time_zone': 'Central Time (US & Canada)', 'geo_enabled': False, 'verified': False, 'statuses_count': 882, 'lang': 'en', 'contributors_enabled': False, 'is_translator': False, 'is_translation_enabled': False, 'profile_background_color': 'C0DEED', 'profile_background_image_url': 'http://pbs.twimg.com/profile_background_images/224912233/a.jpg', 'profile_background_image_url_https': 'https://pbs.twimg.com/profile_background_images/224912233/a.jpg', 'profile_background_tile': False, 'profile_image_url': 'http://pbs.twimg.com/profile_images/940743304328765440/NgUENhHm_normal.jpg', 'profile_image_url_https': 'https://pbs.twimg.com/profile_images/940743304328765440/NgUENhHm_normal.jpg', 'profile_banner_url': 'https://pbs.twimg.com/profile_banners/249870075/1479497380', 'profile_link_color': 'FAB81E', 'profile_sidebar_border_color': 'C0DEED', 'profile_sidebar_fill_color': 'DDEEF6', 'profile_text_color': '333333', 'profile_use_background_image': True, 'has_extended_profile': False, 'default_profile': False, 'default_profile_image': False, 'following': False, 'follow_request_sent': False, 'notifications': False, 'translator_type': 'none'}, id=249870075, id_str='249870075', name='Will Davis', screen_name='_willdavis_', location='Manhattan, NY', description='TAMU 16 | Cornell 18', url=None, entities={'description': {'urls': []}}, protected=False, followers_count=172, friends_count=323, listed_count=2, created_at=datetime.datetime(2011, 2, 9, 23, 26, 13), favourites_count=814, utc_offset=-18000, time_zone='Central Time (US & Canada)', geo_enabled=False, verified=False, statuses_count=882, lang='en', contributors_enabled=False, is_translator=False, is_translation_enabled=False, profile_background_color='C0DEED', profile_background_image_url='http://pbs.twimg.com/profile_background_images/224912233/a.jpg', profile_background_image_url_https='https://pbs.twimg.com/profile_background_images/224912233/a.jpg', profile_background_tile=False, profile_image_url='http://pbs.twimg.com/profile_images/940743304328765440/NgUENhHm_normal.jpg', profile_image_url_https='https://pbs.twimg.com/profile_images/940743304328765440/NgUENhHm_normal.jpg', profile_banner_url='https://pbs.twimg.com/profile_banners/249870075/1479497380', profile_link_color='FAB81E', profile_sidebar_border_color='C0DEED', profile_sidebar_fill_color='DDEEF6', profile_text_color='333333', profile_use_background_image=True, has_extended_profile=False, default_profile=False, default_profile_image=False, following=False, follow_request_sent=False, notifications=False, translator_type='none'), user=User(_api=<tweepy.api.API object at 0x11185bf98>, _json={'id': 249870075, 'id_str': '249870075', 'name': 'Will Davis', 'screen_name': '_willdavis_', 'location': 'Manhattan, NY', 'description': 'TAMU 16 | Cornell 18', 'url': None, 'entities': {'description': {'urls': []}}, 'protected': False, 'followers_count': 172, 'friends_count': 323, 'listed_count': 2, 'created_at': 'Wed Feb 09 23:26:13 +0000 2011', 'favourites_count': 814, 'utc_offset': -18000, 'time_zone': 'Central Time (US & Canada)', 'geo_enabled': False, 'verified': False, 'statuses_count': 882, 'lang': 'en', 'contributors_enabled': False, 'is_translator': False, 'is_translation_enabled': False, 'profile_background_color': 'C0DEED', 'profile_background_image_url': 'http://pbs.twimg.com/profile_background_images/224912233/a.jpg', 'profile_background_image_url_https': 'https://pbs.twimg.com/profile_background_images/224912233/a.jpg', 'profile_background_tile': False, 'profile_image_url': 'http://pbs.twimg.com/profile_images/940743304328765440/NgUENhHm_normal.jpg', 'profile_image_url_https': 'https://pbs.twimg.com/profile_images/940743304328765440/NgUENhHm_normal.jpg', 'profile_banner_url': 'https://pbs.twimg.com/profile_banners/249870075/1479497380', 'profile_link_color': 'FAB81E', 'profile_sidebar_border_color': 'C0DEED', 'profile_sidebar_fill_color': 'DDEEF6', 'profile_text_color': '333333', 'profile_use_background_image': True, 'has_extended_profile': False, 'default_profile': False, 'default_profile_image': False, 'following': False, 'follow_request_sent': False, 'notifications': False, 'translator_type': 'none'}, id=249870075, id_str='249870075', name='Will Davis', screen_name='_willdavis_', location='Manhattan, NY', description='TAMU 16 | Cornell 18', url=None, entities={'description': {'urls': []}}, protected=False, followers_count=172, friends_count=323, listed_count=2, created_at=datetime.datetime(2011, 2, 9, 23, 26, 13), favourites_count=814, utc_offset=-18000, time_zone='Central Time (US & Canada)', geo_enabled=False, verified=False, statuses_count=882, lang='en', contributors_enabled=False, is_translator=False, is_translation_enabled=False, profile_background_color='C0DEED', profile_background_image_url='http://pbs.twimg.com/profile_background_images/224912233/a.jpg', profile_background_image_url_https='https://pbs.twimg.com/profile_background_images/224912233/a.jpg', profile_background_tile=False, profile_image_url='http://pbs.twimg.com/profile_images/940743304328765440/NgUENhHm_normal.jpg', profile_image_url_https='https://pbs.twimg.com/profile_images/940743304328765440/NgUENhHm_normal.jpg', profile_banner_url='https://pbs.twimg.com/profile_banners/249870075/1479497380', profile_link_color='FAB81E', profile_sidebar_border_color='C0DEED', profile_sidebar_fill_color='DDEEF6', profile_text_color='333333', profile_use_background_image=True, has_extended_profile=False, default_profile=False, default_profile_image=False, following=False, follow_request_sent=False, notifications=False, translator_type='none'), geo=None, coordinates=None, place=None, contributors=None, is_quote_status=False, retweet_count=0, favorite_count=0, favorited=False, retweeted=False, lang='en')"
      ]
     },
     "execution_count": 98,
     "metadata": {},
     "output_type": "execute_result"
    }
   ],
   "source": [
    "#Reply to tweet\n",
    "#Uses UserName and Status Input\n",
    "reply_status = \"@%s %s\" % (tweetId, status)\n",
    "api.update_status(status=reply_status, in_reply_to_status=tweet.id)"
   ]
  },
  {
   "cell_type": "code",
   "execution_count": null,
   "metadata": {
    "collapsed": true
   },
   "outputs": [],
   "source": []
  }
 ],
 "metadata": {
  "kernelspec": {
   "display_name": "Python 3",
   "language": "python",
   "name": "python3"
  },
  "language_info": {
   "codemirror_mode": {
    "name": "ipython",
    "version": 3
   },
   "file_extension": ".py",
   "mimetype": "text/x-python",
   "name": "python",
   "nbconvert_exporter": "python",
   "pygments_lexer": "ipython3",
   "version": "3.6.1"
  }
 },
 "nbformat": 4,
 "nbformat_minor": 2
}
