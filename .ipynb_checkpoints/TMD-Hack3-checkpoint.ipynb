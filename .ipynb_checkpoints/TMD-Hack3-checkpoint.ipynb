{
 "cells": [
  {
   "cell_type": "code",
   "execution_count": 63,
   "metadata": {
    "collapsed": true
   },
   "outputs": [],
   "source": [
    "from crpapi import CRP, CRPApiError"
   ]
  },
  {
   "cell_type": "code",
   "execution_count": 64,
   "metadata": {
    "collapsed": true
   },
   "outputs": [],
   "source": [
    "CRP.apikey = '497fc6221645501a5fa631cc82244565'"
   ]
  },
  {
   "cell_type": "code",
   "execution_count": 1,
   "metadata": {
    "collapsed": true
   },
   "outputs": [],
   "source": [
    "lastname = 'CRUZ'"
   ]
  },
  {
   "cell_type": "code",
   "execution_count": 3,
   "metadata": {},
   "outputs": [
    {
     "ename": "NameError",
     "evalue": "name 'CRP' is not defined",
     "output_type": "error",
     "traceback": [
      "\u001b[0;31m---------------------------------------------------------------------------\u001b[0m",
      "\u001b[0;31mNameError\u001b[0m                                 Traceback (most recent call last)",
      "\u001b[0;32m<ipython-input-3-9b47b20b1cd8>\u001b[0m in \u001b[0;36m<module>\u001b[0;34m()\u001b[0m\n\u001b[0;32m----> 1\u001b[0;31m \u001b[0mlegislator\u001b[0m \u001b[0;34m=\u001b[0m \u001b[0mCRP\u001b[0m\u001b[0;34m.\u001b[0m\u001b[0mgetLegislators\u001b[0m\u001b[0;34m.\u001b[0m\u001b[0mget\u001b[0m\u001b[0;34m(\u001b[0m\u001b[0mid\u001b[0m\u001b[0;34m=\u001b[0m\u001b[0;34m'UT'\u001b[0m\u001b[0;34m)\u001b[0m\u001b[0;34m\u001b[0m\u001b[0m\n\u001b[0m",
      "\u001b[0;31mNameError\u001b[0m: name 'CRP' is not defined"
     ]
    }
   ],
   "source": [
    "legislator = CRP.getLegislators.get(id='NY')"
   ]
  },
  {
   "cell_type": "code",
   "execution_count": 2,
   "metadata": {},
   "outputs": [
    {
     "ename": "NameError",
     "evalue": "name 'legislator' is not defined",
     "output_type": "error",
     "traceback": [
      "\u001b[0;31m---------------------------------------------------------------------------\u001b[0m",
      "\u001b[0;31mNameError\u001b[0m                                 Traceback (most recent call last)",
      "\u001b[0;32m<ipython-input-2-63e77de4f797>\u001b[0m in \u001b[0;36m<module>\u001b[0;34m()\u001b[0m\n\u001b[0;32m----> 1\u001b[0;31m \u001b[0;32mfor\u001b[0m \u001b[0mn\u001b[0m \u001b[0;32min\u001b[0m \u001b[0mrange\u001b[0m\u001b[0;34m(\u001b[0m\u001b[0;36m0\u001b[0m\u001b[0;34m,\u001b[0m\u001b[0mlen\u001b[0m\u001b[0;34m(\u001b[0m\u001b[0mlegislator\u001b[0m\u001b[0;34m)\u001b[0m\u001b[0;34m)\u001b[0m\u001b[0;34m:\u001b[0m\u001b[0;34m\u001b[0m\u001b[0m\n\u001b[0m\u001b[1;32m      2\u001b[0m     \u001b[0;32mif\u001b[0m \u001b[0mlegislator\u001b[0m\u001b[0;34m[\u001b[0m\u001b[0mn\u001b[0m\u001b[0;34m]\u001b[0m\u001b[0;34m[\u001b[0m\u001b[0;34m'@attributes'\u001b[0m\u001b[0;34m]\u001b[0m\u001b[0;34m[\u001b[0m\u001b[0;34m'lastname'\u001b[0m\u001b[0;34m]\u001b[0m \u001b[0;34m==\u001b[0m \u001b[0mlastname\u001b[0m\u001b[0;34m:\u001b[0m\u001b[0;34m\u001b[0m\u001b[0m\n\u001b[1;32m      3\u001b[0m         \u001b[0mname\u001b[0m \u001b[0;34m=\u001b[0m \u001b[0mlegislator\u001b[0m\u001b[0;34m[\u001b[0m\u001b[0mn\u001b[0m\u001b[0;34m]\u001b[0m\u001b[0;34m[\u001b[0m\u001b[0;34m'@attributes'\u001b[0m\u001b[0;34m]\u001b[0m\u001b[0;34m[\u001b[0m\u001b[0;34m'firstlast'\u001b[0m\u001b[0;34m]\u001b[0m\u001b[0;34m\u001b[0m\u001b[0m\n\u001b[1;32m      4\u001b[0m         \u001b[0mcid\u001b[0m \u001b[0;34m=\u001b[0m \u001b[0mlegislator\u001b[0m\u001b[0;34m[\u001b[0m\u001b[0mn\u001b[0m\u001b[0;34m]\u001b[0m\u001b[0;34m[\u001b[0m\u001b[0;34m'@attributes'\u001b[0m\u001b[0;34m]\u001b[0m\u001b[0;34m[\u001b[0m\u001b[0;34m'cid'\u001b[0m\u001b[0;34m]\u001b[0m\u001b[0;34m\u001b[0m\u001b[0m\n\u001b[1;32m      5\u001b[0m         \u001b[0mparty\u001b[0m \u001b[0;34m=\u001b[0m \u001b[0mlegislator\u001b[0m\u001b[0;34m[\u001b[0m\u001b[0mn\u001b[0m\u001b[0;34m]\u001b[0m\u001b[0;34m[\u001b[0m\u001b[0;34m'@attributes'\u001b[0m\u001b[0;34m]\u001b[0m\u001b[0;34m[\u001b[0m\u001b[0;34m'party'\u001b[0m\u001b[0;34m]\u001b[0m\u001b[0;34m\u001b[0m\u001b[0m\n",
      "\u001b[0;31mNameError\u001b[0m: name 'legislator' is not defined"
     ]
    }
   ],
   "source": [
    "for n in range(0,len(legislator)):\n",
    "    if legislator[n]['@attributes']['lastname'] == lastname:\n",
    "        name = legislator[n]['@attributes']['firstlast']\n",
    "        cid = legislator[n]['@attributes']['cid']\n",
    "        party = legislator[n]['@attributes']['party']\n",
    "        \n",
    "        print('Polititian: ' + name + ' , ' + 'CID: ' + cid2 + ' , ' + 'Party: ' + party)"
   ]
  },
  {
   "cell_type": "code",
   "execution_count": 68,
   "metadata": {},
   "outputs": [
    {
     "name": "stdout",
     "output_type": "stream",
     "text": [
      "http://www.opensecrets.org/api/?method=CandIndByInd&output=json&apikey=497fc6221645501a5fa631cc82244565&cid=N00033085&cycle=2016&ind=Q13\n"
     ]
    },
    {
     "data": {
      "text/plain": [
       "{'cand_name': 'Cruz, Ted',\n",
       " 'chamber': 'S',\n",
       " 'cid': 'N00033085',\n",
       " 'cycle': '2016',\n",
       " 'indivs': '357018',\n",
       " 'industry': 'Gun Rights',\n",
       " 'last_updated': '11/27/17',\n",
       " 'origin': 'Center for Responsive Politics',\n",
       " 'pacs': '5085',\n",
       " 'party': 'R',\n",
       " 'rank': '1',\n",
       " 'source': 'http://www.opensecrets.org/industries/recips.php?Ind=Q13&cycle=2016&recipdetail=S&Mem=Y&sortorder=U',\n",
       " 'state': 'Texas',\n",
       " 'total': '362103'}"
      ]
     },
     "execution_count": 68,
     "metadata": {},
     "output_type": "execute_result"
    }
   ],
   "source": [
    "CRP.candIndByInd.get(cid=cid, cycle='2016', ind='Q13')"
   ]
  },
  {
   "cell_type": "code",
   "execution_count": 69,
   "metadata": {},
   "outputs": [
    {
     "name": "stdout",
     "output_type": "stream",
     "text": [
      "http://www.opensecrets.org/api/?method=getOrgs&output=json&apikey=497fc6221645501a5fa631cc82244565&org=second\n"
     ]
    },
    {
     "data": {
      "text/plain": [
       "[{'@attributes': {'orgid': 'D000037452', 'orgname': 'Second Avenue Partners'}},\n",
       " {'@attributes': {'orgid': 'D000056558', 'orgname': 'Second Chance'}}]"
      ]
     },
     "execution_count": 69,
     "metadata": {},
     "output_type": "execute_result"
    }
   ],
   "source": [
    "CRP.getOrgs.get(org='second')"
   ]
  },
  {
   "cell_type": "code",
   "execution_count": 70,
   "metadata": {},
   "outputs": [
    {
     "name": "stdout",
     "output_type": "stream",
     "text": [
      "http://www.opensecrets.org/api/?method=candIndustry&output=json&apikey=497fc6221645501a5fa631cc82244565&cid=N00033085&cycle=2016\n"
     ]
    },
    {
     "data": {
      "text/plain": [
       "[{'@attributes': {'indivs': '2075197',\n",
       "   'industry_code': 'W06',\n",
       "   'industry_name': 'Retired',\n",
       "   'pacs': '0',\n",
       "   'total': '2075197'}},\n",
       " {'@attributes': {'indivs': '1926677',\n",
       "   'industry_code': 'Q01',\n",
       "   'industry_name': 'Republican/Conservative',\n",
       "   'pacs': '115405',\n",
       "   'total': '2042082'}},\n",
       " {'@attributes': {'indivs': '1216968',\n",
       "   'industry_code': 'E01',\n",
       "   'industry_name': 'Oil & Gas',\n",
       "   'pacs': '181000',\n",
       "   'total': '1397968'}},\n",
       " {'@attributes': {'indivs': '1217112',\n",
       "   'industry_code': 'K01',\n",
       "   'industry_name': 'Lawyers/Law Firms',\n",
       "   'pacs': '57249',\n",
       "   'total': '1274361'}},\n",
       " {'@attributes': {'indivs': '1175917',\n",
       "   'industry_code': 'F07',\n",
       "   'industry_name': 'Securities & Investment',\n",
       "   'pacs': '24500',\n",
       "   'total': '1200417'}},\n",
       " {'@attributes': {'indivs': '982630',\n",
       "   'industry_code': 'F10',\n",
       "   'industry_name': 'Real Estate',\n",
       "   'pacs': '24000',\n",
       "   'total': '1006630'}},\n",
       " {'@attributes': {'indivs': '667229',\n",
       "   'industry_code': 'F13',\n",
       "   'industry_name': 'Misc Finance',\n",
       "   'pacs': '3500',\n",
       "   'total': '670729'}},\n",
       " {'@attributes': {'indivs': '553242',\n",
       "   'industry_code': 'H01',\n",
       "   'industry_name': 'Health Professionals',\n",
       "   'pacs': '38000',\n",
       "   'total': '591242'}},\n",
       " {'@attributes': {'indivs': '481488',\n",
       "   'industry_code': 'N12',\n",
       "   'industry_name': 'Misc Business',\n",
       "   'pacs': '10500',\n",
       "   'total': '491988'}},\n",
       " {'@attributes': {'indivs': '446319',\n",
       "   'industry_code': 'N05',\n",
       "   'industry_name': 'Business Services',\n",
       "   'pacs': '8000',\n",
       "   'total': '454319'}}]"
      ]
     },
     "execution_count": 70,
     "metadata": {},
     "output_type": "execute_result"
    }
   ],
   "source": [
    "CRP.candIndustry.get(cid=cid,cycle='2016')"
   ]
  },
  {
   "cell_type": "code",
   "execution_count": null,
   "metadata": {
    "collapsed": true
   },
   "outputs": [],
   "source": []
  }
 ],
 "metadata": {
  "kernelspec": {
   "display_name": "Python 3",
   "language": "python",
   "name": "python3"
  },
  "language_info": {
   "codemirror_mode": {
    "name": "ipython",
    "version": 3
   },
   "file_extension": ".py",
   "mimetype": "text/x-python",
   "name": "python",
   "nbconvert_exporter": "python",
   "pygments_lexer": "ipython3",
   "version": "3.6.1"
  }
 },
 "nbformat": 4,
 "nbformat_minor": 2
}
