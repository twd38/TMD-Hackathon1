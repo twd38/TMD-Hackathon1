{
 "cells": [
  {
   "cell_type": "code",
   "execution_count": 1,
   "metadata": {
    "collapsed": true
   },
   "outputs": [],
   "source": [
    "from crpapi import CRP, CRPApiError"
   ]
  },
  {
   "cell_type": "code",
   "execution_count": 2,
   "metadata": {
    "collapsed": true
   },
   "outputs": [],
   "source": [
    "CRP.apikey = '497fc6221645501a5fa631cc82244565'"
   ]
  },
  {
   "cell_type": "code",
   "execution_count": 3,
   "metadata": {
    "collapsed": true
   },
   "outputs": [],
   "source": [
    "lastname = 'CRUZ'"
   ]
  },
  {
   "cell_type": "code",
   "execution_count": 8,
   "metadata": {},
   "outputs": [
    {
     "name": "stdout",
     "output_type": "stream",
     "text": [
      "http://www.opensecrets.org/api/?method=getLegislators&output=json&apikey=497fc6221645501a5fa631cc82244565&id=TX\n"
     ]
    }
   ],
   "source": [
    "legislator = CRP.getLegislators.get(id='TX')"
   ]
  },
  {
   "cell_type": "code",
   "execution_count": 10,
   "metadata": {},
   "outputs": [
    {
     "name": "stdout",
     "output_type": "stream",
     "text": [
      "Polititian: Ted Cruz , CID: N00033085 , Party: R\n"
     ]
    }
   ],
   "source": [
    "for n in range(0,len(legislator)):\n",
    "    if legislator[n]['@attributes']['lastname'] == lastname:\n",
    "        name = legislator[n]['@attributes']['firstlast']\n",
    "        cid = legislator[n]['@attributes']['cid']\n",
    "        party = legislator[n]['@attributes']['party']\n",
    "        \n",
    "        print('Polititian: ' + name + ' , ' + 'CID: ' + cid + ' , ' + 'Party: ' + party)"
   ]
  },
  {
   "cell_type": "code",
   "execution_count": null,
   "metadata": {},
   "outputs": [
    {
     "name": "stdout",
     "output_type": "stream",
     "text": [
      "http://www.opensecrets.org/api/?method=CandIndByInd&output=json&apikey=497fc6221645501a5fa631cc82244565&cid=N00033085&cycle=2016&ind=Q13\n"
     ]
    },
    {
     "data": {
      "text/plain": [
       "{'cand_name': 'Cruz, Ted',\n",
       " 'chamber': 'S',\n",
       " 'cid': 'N00033085',\n",
       " 'cycle': '2016',\n",
       " 'indivs': '357018',\n",
       " 'industry': 'Gun Rights',\n",
       " 'last_updated': '11/27/17',\n",
       " 'origin': 'Center for Responsive Politics',\n",
       " 'pacs': '5085',\n",
       " 'party': 'R',\n",
       " 'rank': '1',\n",
       " 'source': 'http://www.opensecrets.org/industries/recips.php?Ind=Q13&cycle=2016&recipdetail=S&Mem=Y&sortorder=U',\n",
       " 'state': 'Texas',\n",
       " 'total': '362103'}"
      ]
     },
     "execution_count": 11,
     "metadata": {},
     "output_type": "execute_result"
    }
   ],
   "source": [
    "CRP.candIndByInd.get(cid=cid, cycle='2016', ind='Q13')"
   ]
  },
  {
   "cell_type": "code",
   "execution_count": null,
   "metadata": {},
   "outputs": [
    {
     "name": "stdout",
     "output_type": "stream",
     "text": [
      "http://www.opensecrets.org/api/?method=getOrgs&output=json&apikey=497fc6221645501a5fa631cc82244565&org=second\n"
     ]
    }
   ],
   "source": [
    "CRP.getOrgs.get(org='second')"
   ]
  },
  {
   "cell_type": "code",
   "execution_count": null,
   "metadata": {},
   "outputs": [],
   "source": [
    "CRP.candIndustry.get(cid=cid,cycle='2016')"
   ]
  },
  {
   "cell_type": "code",
   "execution_count": null,
   "metadata": {
    "collapsed": true
   },
   "outputs": [],
   "source": []
  }
 ],
 "metadata": {
  "kernelspec": {
   "display_name": "Python 3",
   "language": "python",
   "name": "python3"
  },
  "language_info": {
   "codemirror_mode": {
    "name": "ipython",
    "version": 3
   },
   "file_extension": ".py",
   "mimetype": "text/x-python",
   "name": "python",
   "nbconvert_exporter": "python",
   "pygments_lexer": "ipython3",
   "version": "3.6.1"
  }
 },
 "nbformat": 4,
 "nbformat_minor": 2
}
